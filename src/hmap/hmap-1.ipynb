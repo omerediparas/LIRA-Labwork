{
 "cells": [
  {
   "cell_type": "code",
   "execution_count": 1,
   "id": "066d87ee-2e78-4216-944d-46a1d462bb87",
   "metadata": {},
   "outputs": [
    {
     "name": "stdout",
     "output_type": "stream",
     "text": [
      "version: 0.2.2 compile time: Nov 26 2024 16:47:22\n"
     ]
    }
   ],
   "source": [
    "import robotic as ry\n",
    "import numpy as np\n",
    "import time\n",
    "print('version:', ry.__version__, ry.compiled())"
   ]
  },
  {
   "cell_type": "code",
   "execution_count": 2,
   "id": "d0d1ebc9-9b6d-4ddc-8917-13c994cc57f3",
   "metadata": {},
   "outputs": [
    {
     "data": {
      "text/plain": [
       "<robotic._robotic.Frame at 0x7dab406208b0>"
      ]
     },
     "execution_count": 2,
     "metadata": {},
     "output_type": "execute_result"
    }
   ],
   "source": [
    "C = ry.Config()\n",
    "C.addFile(\"maze.g\")\n",
    "C.addFile(\"cargo2.g\")\n",
    "#C.view()"
   ]
  },
  {
   "cell_type": "code",
   "execution_count": 3,
   "id": "ed68c5ce-27c4-4965-ad55-046e8f80883e",
   "metadata": {},
   "outputs": [
    {
     "name": "stdout",
     "output_type": "stream",
     "text": [
      "q_start:  [0.5 1. ]\n",
      "q_end:  [-4.5 -3. ]\n"
     ]
    },
    {
     "data": {
      "text/plain": [
       "0"
      ]
     },
     "execution_count": 3,
     "metadata": {},
     "output_type": "execute_result"
    }
   ],
   "source": [
    "ego = C.getFrame(\"cargo2\")\n",
    "\n",
    "end_pos = C.getFrame(\"goal_area\").getPosition()\n",
    "start_pos = C.getFrame(\"cargo2\").getPosition()\n",
    "\n",
    "q_start = ego.getJointState()\n",
    "print(\"q_start: \",q_start)\n",
    "\n",
    "ego.setPosition(end_pos)\n",
    "q_end = ego.getJointState()\n",
    "\n",
    "print(\"q_end: \",q_end)\n",
    "\n",
    "\n",
    "ego.setPosition(start_pos)\n",
    "C.view()"
   ]
  },
  {
   "cell_type": "code",
   "execution_count": 4,
   "id": "1d5c9731-c6e2-466b-b29f-f6bd0077f2a5",
   "metadata": {},
   "outputs": [],
   "source": [
    "#RRT Part"
   ]
  },
  {
   "cell_type": "code",
   "execution_count": 5,
   "id": "d58e1b01-1be2-4130-b072-49aefc376b49",
   "metadata": {},
   "outputs": [],
   "source": [
    "# rrt function, returns the pathways.\n",
    "def rrt_path(q_start, q_end):\n",
    "    for i in range(5):\n",
    "        rrt = ry.PathFinder()\n",
    "        rrt.setProblem(C, [q_start], [q_end])\n",
    "        result = rrt.solve()\n",
    "        print(\"result.feasible: \",result.feasible)\n",
    "        if result.feasible:\n",
    "            return result.x\n",
    "    raise ValueError(\"No feasible path found after 5 attempts. Please restart the kernel\")"
   ]
  },
  {
   "cell_type": "code",
   "execution_count": 6,
   "id": "b763339a-27ba-4f57-89da-1e78dce95ae0",
   "metadata": {},
   "outputs": [
    {
     "name": "stdout",
     "output_type": "stream",
     "text": [
      "result.feasible:  True\n"
     ]
    }
   ],
   "source": [
    "#viewing the solution\n",
    "path_to_goal = rrt_path(q_start, q_end)\n",
    "\n",
    "#for config in path_to_goal:\n",
    "#    C.setJointState(config)\n",
    "#    C.view()\n",
    "#    time.sleep(0.1)"
   ]
  },
  {
   "cell_type": "code",
   "execution_count": 7,
   "id": "17ba604d-6f73-4b87-adf1-adc30fbfc187",
   "metadata": {},
   "outputs": [],
   "source": [
    "#print(path_to_goal) # rrt returns an array of points\n",
    "del C"
   ]
  },
  {
   "cell_type": "code",
   "execution_count": 8,
   "id": "369ec097-7e4a-48ca-b6e5-ebe3accaec4b",
   "metadata": {},
   "outputs": [
    {
     "data": {
      "text/plain": [
       "0"
      ]
     },
     "execution_count": 8,
     "metadata": {},
     "output_type": "execute_result"
    }
   ],
   "source": [
    "# reconfiguration\n",
    "C = ry.Config()\n",
    "C.addFile(\"maze.g\")\n",
    "C.addFile(\"cargo.g\")\n",
    "C.addFile(\"ego.g\")\n",
    "C.view()"
   ]
  },
  {
   "cell_type": "code",
   "execution_count": 9,
   "id": "6669626b-99c3-49d2-83f1-7cff0a42c1ef",
   "metadata": {},
   "outputs": [
    {
     "name": "stdout",
     "output_type": "stream",
     "text": [
      "[[np.float64(0.5), np.float64(1.0), np.float64(0.0)], [np.float64(0.4211513980575041), np.float64(0.9384947321628965), np.float64(0.0)], [np.float64(0.32289394314492387), np.float64(0.9199078401660548), np.float64(0.0)], [np.float64(0.24529283256579698), np.float64(0.8568359158503489), np.float64(0.0)], [np.float64(0.16769963282064138), np.float64(0.7937542596156845), np.float64(0.0)], [np.float64(0.09100785168881123), np.float64(0.7295797264516055), np.float64(0.0)], [np.float64(0.01339901996112769), np.float64(0.6665173031088247), np.float64(0.0)], [np.float64(-0.06421759289649573), np.float64(0.6034644569517336), np.float64(0.0)], [np.float64(-0.1408732683883332), np.float64(0.5392468003852556), np.float64(0.0)], [np.float64(-0.2175302323028735), np.float64(0.47503068182141783), np.float64(0.0)], [np.float64(-0.294154351719945), np.float64(0.41077537602058634), np.float64(0.0)], [np.float64(-0.37002923342180827), np.float64(0.3456370437827384), np.float64(0.0)], [np.float64(-0.4477271524591149), np.float64(0.28268441574170944), np.float64(0.0)], [np.float64(-0.42902200881856), np.float64(0.18444940364629506), np.float64(0.0)], [np.float64(-0.5244824680909242), np.float64(0.1546618103311365), np.float64(0.0)], [np.float64(-0.6018331976147637), np.float64(0.09128307066135581), np.float64(0.0)], [np.float64(-0.6391170809612424), np.float64(-0.0015065410557225795), np.float64(0.0)], [np.float64(-0.7166682503364522), np.float64(-0.06463986132748967), np.float64(0.0)], [np.float64(-0.7783253497414464), np.float64(-0.14336979269391897), np.float64(0.0)], [np.float64(-0.7070376127536896), np.float64(-0.21349866374689125), np.float64(0.0)], [np.float64(-0.6735263627427842), np.float64(-0.30771647587764805), np.float64(0.0)], [np.float64(-0.6162821810111027), np.float64(-0.3897110101947001), np.float64(0.0)], [np.float64(-0.5556828437169244), np.float64(-0.46925797946133163), np.float64(0.0)], [np.float64(-0.47932929707086236), np.float64(-0.5338345689854589), np.float64(0.0)], [np.float64(-0.5295229877453232), np.float64(-0.6203249928280817), np.float64(0.0)], [np.float64(-0.5085597549465315), np.float64(-0.7181030213959745), np.float64(0.0)], [np.float64(-0.4097793205032604), np.float64(-0.7336730493727834), np.float64(0.0)], [np.float64(-0.3182552163195401), np.float64(-0.7739637226529301), np.float64(0.0)], [np.float64(-0.24513117905801546), np.float64(-0.8421757096828881), np.float64(0.0)], [np.float64(-0.18933660253444892), np.float64(-0.9251634511303807), np.float64(0.0)], [np.float64(-0.1260370035172914), np.float64(-1.0025789583900186), np.float64(0.0)], [np.float64(-0.04156322196191352), np.float64(-1.0560969948799188), np.float64(0.0)], [np.float64(0.058395157917337515), np.float64(-1.0589818331622747), np.float64(0.0)], [np.float64(0.12944093361942896), np.float64(-1.1293558180919923), np.float64(0.0)], [np.float64(0.21318798777052467), np.float64(-1.1840040652826702), np.float64(0.0)], [np.float64(0.2583545945706233), np.float64(-1.273222772010381), np.float64(0.0)], [np.float64(0.21463583868281028), np.float64(-1.363159807672125), np.float64(0.0)], [np.float64(0.16769019606216679), np.float64(-1.4514553717675813), np.float64(0.0)], [np.float64(0.17662036927862848), np.float64(-1.5510558336456468), np.float64(0.0)], [np.float64(0.2336569777194874), np.float64(-1.6331948943753882), np.float64(0.0)], [np.float64(0.30786258551990436), np.float64(-1.7002286751949922), np.float64(0.0)], [np.float64(0.32517605212128053), np.float64(-1.7987184912890586), np.float64(0.0)], [np.float64(0.39754493439473676), np.float64(-1.8677311341778122), np.float64(0.0)], [np.float64(0.4841948562074749), np.float64(-1.9176489771785508), np.float64(0.0)], [np.float64(0.4866962509909128), np.float64(-2.017617687403988), np.float64(0.0)], [np.float64(0.5866601538223942), np.float64(-2.014931029499056), np.float64(0.0)], [np.float64(0.6673596736095107), np.float64(-2.0739868294354618), np.float64(0.0)], [np.float64(0.7618349057743456), np.float64(-2.106765336225743), np.float64(0.0)], [np.float64(0.8534422994300995), np.float64(-2.1468662767084767), np.float64(0.0)], [np.float64(0.9242944908619186), np.float64(-2.2174351577348106), np.float64(0.0)], [np.float64(0.9823766908926626), np.float64(-2.298838216888559), np.float64(0.0)], [np.float64(1.0810278725453257), np.float64(-2.315207222922319), np.float64(0.0)], [np.float64(1.1810153110305743), np.float64(-2.3136222481090782), np.float64(0.0)], [np.float64(1.2793001749316544), np.float64(-2.3320636560798964), np.float64(0.0)], [np.float64(1.379264700125973), np.float64(-2.3294002554952264), np.float64(0.0)], [np.float64(1.4670583395673302), np.float64(-2.2815225271276343), np.float64(0.0)], [np.float64(1.567049706104835), np.float64(-2.28283653548468), np.float64(0.0)], [np.float64(1.6458265673112642), np.float64(-2.221239407804381), np.float64(0.0)], [np.float64(1.7427883744800512), np.float64(-2.245701786073122), np.float64(0.0)], [np.float64(1.8424967387913884), np.float64(-2.253333436376802), np.float64(0.0)], [np.float64(1.9424813518069972), np.float64(-2.2550876199814924), np.float64(0.0)], [np.float64(2.006382449660161), np.float64(-2.332007381377121), np.float64(0.0)], [np.float64(2.0683809577760126), np.float64(-2.410468741239213), np.float64(0.0)], [np.float64(2.1600237232176847), np.float64(-2.4504887804970985), np.float64(0.0)], [np.float64(2.173211152255353), np.float64(-2.5496154253277212), np.float64(0.0)], [np.float64(2.171122748470251), np.float64(-2.649593615797595), np.float64(0.0)], [np.float64(2.2154494695991325), np.float64(-2.7392325682343697), np.float64(0.0)], [np.float64(2.297573093649085), np.float64(-2.796291400792547), np.float64(0.0)], [np.float64(2.346859596220533), np.float64(-2.8833019786798046), np.float64(0.0)], [np.float64(2.443456256377298), np.float64(-2.8574352965083603), np.float64(0.0)], [np.float64(2.524987119240632), np.float64(-2.799532633350607), np.float64(0.0)], [np.float64(2.624794527098826), np.float64(-2.805735966053928), np.float64(0.0)], [np.float64(2.715863708303644), np.float64(-2.764427320049925), np.float64(0.0)], [np.float64(2.7943128517975167), np.float64(-2.7024133548075886), np.float64(0.0)], [np.float64(2.829092362143743), np.float64(-2.608656298219422), np.float64(0.0)], [np.float64(2.860962275386916), np.float64(-2.513870705274752), np.float64(0.0)], [np.float64(2.897838660056868), np.float64(-2.4209183935570024), np.float64(0.0)], [np.float64(2.857750401623861), np.float64(-2.3293054494071255), np.float64(0.0)], [np.float64(2.89118891094074), np.float64(-2.235061796598753), np.float64(0.0)], [np.float64(2.9911866333304062), np.float64(-2.234386876692961), np.float64(0.0)], [np.float64(3.078324371079729), np.float64(-2.283448212385441), np.float64(0.0)], [np.float64(3.17152587594578), np.float64(-2.2472062547851195), np.float64(0.0)], [np.float64(3.1869112582389794), np.float64(-2.1483968928213253), np.float64(0.0)], [np.float64(3.2316083925911836), np.float64(-2.058942065222693), np.float64(0.0)], [np.float64(3.2281301827147857), np.float64(-1.9590025732485203), np.float64(0.0)], [np.float64(3.23297232087081), np.float64(-1.85911987355494), np.float64(0.0)], [np.float64(3.2576851900984978), np.float64(-1.762221606828774), np.float64(0.0)], [np.float64(3.2838369038654065), np.float64(-1.6657017235556697), np.float64(0.0)], [np.float64(3.301086229999238), np.float64(-1.5672006537750387), np.float64(0.0)], [np.float64(3.3062987340884993), np.float64(-1.467336597172478), np.float64(0.0)], [np.float64(3.295427680905937), np.float64(-1.367929252359824), np.float64(0.0)], [np.float64(3.237614639629191), np.float64(-1.2863348146919702), np.float64(0.0)], [np.float64(3.2571049956691036), np.float64(-1.1882525735805567), np.float64(0.0)], [np.float64(3.2358283009058377), np.float64(-1.0905422759658692), np.float64(0.0)], [np.float64(3.267190394787366), np.float64(-0.995587449509463), np.float64(0.0)], [np.float64(3.2484000507945265), np.float64(-0.8973686988931435), np.float64(0.0)], [np.float64(3.3278311045721725), np.float64(-0.8366175038779609), np.float64(0.0)], [np.float64(3.2865422987297364), np.float64(-0.7455393258543221), np.float64(0.0)], [np.float64(3.366903604123111), np.float64(-0.6860241127111869), np.float64(0.0)], [np.float64(3.3989803646765018), np.float64(-0.5913083197704084), np.float64(0.0)], [np.float64(3.402801830328782), np.float64(-0.4913813644466899), np.float64(0.0)], [np.float64(3.3877387886102297), np.float64(-0.39252234981380396), np.float64(0.0)], [np.float64(3.321847702271433), np.float64(-0.31730024707070564), np.float64(0.0)], [np.float64(3.3531234874997566), np.float64(-0.22231695770698767), np.float64(0.0)], [np.float64(3.444151935472947), np.float64(-0.1809186285185746), np.float64(0.0)], [np.float64(3.4311299274968707), np.float64(-0.08177011714159524), np.float64(0.0)], [np.float64(3.4139475567318804), np.float64(0.016742654288785325), np.float64(0.0)], [np.float64(3.4244345751264444), np.float64(0.11619124626067841), np.float64(0.0)], [np.float64(3.4189648561681896), np.float64(0.21604154508105106), np.float64(0.0)], [np.float64(3.3295774278469077), np.float64(0.26087331571424915), np.float64(0.0)], [np.float64(3.359628869689669), np.float64(0.35625104290027065), np.float64(0.0)], [np.float64(3.3001057985923437), np.float64(0.43660652813396666), np.float64(0.0)], [np.float64(3.2278906455229968), np.float64(0.5057800177609243), np.float64(0.0)], [np.float64(3.2211913315183818), np.float64(0.6055553613677873), np.float64(0.0)], [np.float64(3.255892683148436), np.float64(0.6993413741577943), np.float64(0.0)], [np.float64(3.2822963322628564), np.float64(0.7957926432704532), np.float64(0.0)], [np.float64(3.3380581085686702), np.float64(0.8788024276529005), np.float64(0.0)], [np.float64(3.292674499159997), np.float64(0.9679109457476427), np.float64(0.0)], [np.float64(3.342512264392864), np.float64(1.0546069500188526), np.float64(0.0)], [np.float64(3.30635179272895), np.float64(1.1478401001803873), np.float64(0.0)], [np.float64(3.2857474851964548), np.float64(1.2456943924271067), np.float64(0.0)], [np.float64(3.2209102107395386), np.float64(1.3218266972720183), np.float64(0.0)], [np.float64(3.2099346050283923), np.float64(1.4212225527151576), np.float64(0.0)], [np.float64(3.2245944743552886), np.float64(1.5201421576037657), np.float64(0.0)], [np.float64(3.2227126148486964), np.float64(1.6201244490597904), np.float64(0.0)], [np.float64(3.2161757375025837), np.float64(1.7199105665038612), np.float64(0.0)], [np.float64(3.214211705908746), np.float64(1.8198912775430331), np.float64(0.0)], [np.float64(3.241140550823488), np.float64(1.9161972343243132), np.float64(0.0)], [np.float64(3.221799865056993), np.float64(2.0143090984085394), np.float64(0.0)], [np.float64(3.1914687375282296), np.float64(2.1095982515312004), np.float64(0.0)], [np.float64(3.1470584551402965), np.float64(2.199195834189574), np.float64(0.0)], [np.float64(3.0651214893808425), np.float64(2.2565223868692357), np.float64(0.0)], [np.float64(3.117348628919787), np.float64(2.3312494637451064), np.float64(0.0)], [np.float64(3.0174788791237583), np.float64(2.3363517255649873), np.float64(0.0)], [np.float64(2.947638242871232), np.float64(2.4079218696744014), np.float64(0.0)], [np.float64(2.8625850795473347), np.float64(2.4605142589393747), np.float64(0.0)], [np.float64(2.7771040749958495), np.float64(2.512408361310155), np.float64(0.0)], [np.float64(2.725340707169778), np.float64(2.4268481266721946), np.float64(0.0)], [np.float64(2.649321291044253), np.float64(2.3618785309220724), np.float64(0.0)], [np.float64(2.5556737068397006), np.float64(2.3969517396810565), np.float64(0.0)], [np.float64(2.482874158506268), np.float64(2.328393547154939), np.float64(0.0)], [np.float64(2.3899569901334545), np.float64(2.291428701401463), np.float64(0.0)], [np.float64(2.3318901988614473), np.float64(2.210014650087374), np.float64(0.0)], [np.float64(2.2674283462535785), np.float64(2.133564211512037), np.float64(0.0)], [np.float64(2.207228371426103), np.float64(2.053714583893799), np.float64(0.0)], [np.float64(2.127961294397973), np.float64(1.992749589844619), np.float64(0.0)], [np.float64(2.0290430088048295), np.float64(2.0074183585493617), np.float64(0.0)], [np.float64(1.9950491944767659), np.float64(2.101463138241959), np.float64(0.0)], [np.float64(1.900007527259981), np.float64(2.0703652043450917), np.float64(0.0)], [np.float64(1.811447081213879), np.float64(2.1168092286767046), np.float64(0.0)], [np.float64(1.8130810161215485), np.float64(2.216795879069232), np.float64(0.0)], [np.float64(1.7771091567080053), np.float64(2.3101019631706037), np.float64(0.0)], [np.float64(1.698242189905111), np.float64(2.371583680349869), np.float64(0.0)], [np.float64(1.6284459343289903), np.float64(2.4431971058199085), np.float64(0.0)], [np.float64(1.5577931832092318), np.float64(2.372428548117992), np.float64(0.0)], [np.float64(1.4611283232578862), np.float64(2.346817908715846), np.float64(0.0)], [np.float64(1.361141500855446), np.float64(2.345194533878394), np.float64(0.0)], [np.float64(1.2757064561492442), np.float64(2.3971642667625384), np.float64(0.0)], [np.float64(1.2329813749018177), np.float64(2.4875775812267302), np.float64(0.0)], [np.float64(1.1346436198786065), np.float64(2.4694203254595473), np.float64(0.0)], [np.float64(1.0527705466030348), np.float64(2.5268380916335538), np.float64(0.0)], [np.float64(0.9580634830273381), np.float64(2.5589406165945117), np.float64(0.0)], [np.float64(0.8693225352395663), np.float64(2.6050388181399944), np.float64(0.0)], [np.float64(0.77184341364758), np.float64(2.582726918766459), np.float64(0.0)], [np.float64(0.6834399262484443), np.float64(2.5359848240800753), np.float64(0.0)], [np.float64(0.5845351380188443), np.float64(2.5212253232328936), np.float64(0.0)], [np.float64(0.48520716796415064), np.float64(2.532799188828013), np.float64(0.0)], [np.float64(0.38918089103619513), np.float64(2.5048894389302516), np.float64(0.0)], [np.float64(0.29153162444899694), np.float64(2.483334376068309), np.float64(0.0)], [np.float64(0.2054012645829833), np.float64(2.5341434412963864), np.float64(0.0)], [np.float64(0.1832641967905237), np.float64(2.6316624149863923), np.float64(0.0)], [np.float64(0.08333661055509456), np.float64(2.627857482771375), np.float64(0.0)], [np.float64(0.005547319282991035), np.float64(2.690697168984658), np.float64(0.0)], [np.float64(-0.021440261534092855), np.float64(2.786986682856322), np.float64(0.0)], [np.float64(-0.11457494175750746), np.float64(2.8234000229898815), np.float64(0.0)], [np.float64(-0.13276123347591648), np.float64(2.921732412330998), np.float64(0.0)], [np.float64(-0.17451156713913463), np.float64(3.0125999513039994), np.float64(0.0)], [np.float64(-0.23162997601349627), np.float64(3.0946821501516255), np.float64(0.0)], [np.float64(-0.33094228288905647), np.float64(3.082974643881947), np.float64(0.0)], [np.float64(-0.3912817682602953), np.float64(3.162718900760634), np.float64(0.0)], [np.float64(-0.47441789121046285), np.float64(3.2182921412709247), np.float64(0.0)], [np.float64(-0.5695107107963526), np.float64(3.249233305812768), np.float64(0.0)], [np.float64(-0.6655041136929745), np.float64(3.277255914547981), np.float64(0.0)], [np.float64(-0.7649591129573684), np.float64(3.2876819934523147), np.float64(0.0)], [np.float64(-0.8642130734867924), np.float64(3.2754897287232527), np.float64(0.0)], [np.float64(-0.9637068246853576), np.float64(3.2654401778657265), np.float64(0.0)], [np.float64(-1.0626219603176745), np.float64(3.2507501832149326), np.float64(0.0)], [np.float64(-1.1623600040875537), np.float64(3.2579836211912805), np.float64(0.0)], [np.float64(-1.2623260440981674), np.float64(3.260589546093571), np.float64(0.0)], [np.float64(-1.3588012087111436), np.float64(3.2342733417149163), np.float64(0.0)], [np.float64(-1.4499330436085403), np.float64(3.1931031016350526), np.float64(0.0)], [np.float64(-1.54781896570495), np.float64(3.1726495871366684), np.float64(0.0)], [np.float64(-1.6390982928869615), np.float64(3.1318073978075045), np.float64(0.0)], [np.float64(-1.7362977947634644), np.float64(3.10830725238328), np.float64(0.0)], [np.float64(-1.8248315778728421), np.float64(3.06181242204332), np.float64(0.0)], [np.float64(-1.856031578368368), np.float64(2.9668042120345044), np.float64(0.0)], [np.float64(-1.931152141987316), np.float64(2.9007973872239474), np.float64(0.0)], [np.float64(-1.9273263289025873), np.float64(2.800870598252017), np.float64(0.0)], [np.float64(-1.869115754274093), np.float64(2.7195592890667597), np.float64(0.0)], [np.float64(-1.9506768642554932), np.float64(2.661699239476374), np.float64(0.0)], [np.float64(-2.0171895114752676), np.float64(2.5870261669547623), np.float64(0.0)], [np.float64(-2.0847887577398345), np.float64(2.5133353133536374), np.float64(0.0)], [np.float64(-2.090098920618245), np.float64(2.4134764020326904), np.float64(0.0)], [np.float64(-2.0163228744933606), np.float64(2.3459701429289677), np.float64(0.0)], [np.float64(-2.0144693616427523), np.float64(2.245987321953999), np.float64(0.0)], [np.float64(-1.9612397450613015), np.float64(2.1613315016071866), np.float64(0.0)], [np.float64(-1.9305439546555936), np.float64(2.0661591923393705), np.float64(0.0)], [np.float64(-1.9371737485044827), np.float64(1.9663792052000588), np.float64(0.0)], [np.float64(-1.9279728927207107), np.float64(1.866803383572285), np.float64(0.0)], [np.float64(-2.015925230326744), np.float64(1.819217815280687), np.float64(0.0)], [np.float64(-2.106696762756287), np.float64(1.7772591582431638), np.float64(0.0)], [np.float64(-2.192682626048698), np.float64(1.7262059378368189), np.float64(0.0)], [np.float64(-2.2847420019301925), np.float64(1.6871537764073965), np.float64(0.0)], [np.float64(-2.3734883216380407), np.float64(1.6410659175038584), np.float64(0.0)], [np.float64(-2.4272941668835464), np.float64(1.556775164645572), np.float64(0.0)], [np.float64(-2.4498310601075177), np.float64(1.4593478150777464), np.float64(0.0)], [np.float64(-2.519573203454362), np.float64(1.387681690294916), np.float64(0.0)], [np.float64(-2.5602070573895994), np.float64(1.296309430202644), np.float64(0.0)], [np.float64(-2.6360666610656867), np.float64(1.2311533059309614), np.float64(0.0)], [np.float64(-2.615865330521898), np.float64(1.1332150282032996), np.float64(0.0)], [np.float64(-2.647728637500156), np.float64(1.0384272142797297), np.float64(0.0)], [np.float64(-2.6131513387827754), np.float64(0.9445953944454697), np.float64(0.0)], [np.float64(-2.5689063740759055), np.float64(0.8549160596013272), np.float64(0.0)], [np.float64(-2.542879015355021), np.float64(0.7583625687373796), np.float64(0.0)], [np.float64(-2.5928737205526557), np.float64(0.6717569716191704), np.float64(0.0)], [np.float64(-2.5789351442668544), np.float64(0.5727331558417277), np.float64(0.0)], [np.float64(-2.583143606639985), np.float64(0.4728217508648486), np.float64(0.0)], [np.float64(-2.5809878965964277), np.float64(0.3728449889938613), np.float64(0.0)], [np.float64(-2.515213250375393), np.float64(0.29752104914405186), np.float64(0.0)], [np.float64(-2.455859890185115), np.float64(0.21704012821167729), np.float64(0.0)], [np.float64(-2.4539552775902047), np.float64(0.11705826760254823), np.float64(0.0)], [np.float64(-2.4441468003699702), np.float64(0.01754046128317572), np.float64(0.0)], [np.float64(-2.3516067925424333), np.float64(-0.020358706930380235), np.float64(0.0)], [np.float64(-2.278702992605499), np.float64(-0.08880602941092346), np.float64(0.0)], [np.float64(-2.1790221839617128), np.float64(-0.09678953666781838), np.float64(0.0)], [np.float64(-2.1721881226613067), np.float64(-0.19655574139738746), np.float64(0.0)], [np.float64(-2.1870235597692327), np.float64(-0.2954491679019675), np.float64(0.0)], [np.float64(-2.145032398373696), np.float64(-0.386205668300859), np.float64(0.0)], [np.float64(-2.0894330087925024), np.float64(-0.4693243056705769), np.float64(0.0)], [np.float64(-2.0614441446090392), np.float64(-0.5653275529162803), np.float64(0.0)], [np.float64(-2.020189435836248), np.float64(-0.656421180597212), np.float64(0.0)], [np.float64(-1.96474326055306), np.float64(-0.7396421013231085), np.float64(0.0)], [np.float64(-1.9043566830327296), np.float64(-0.8193507034647918), np.float64(0.0)], [np.float64(-1.84017876113728), np.float64(-0.896039648829698), np.float64(0.0)], [np.float64(-1.7758118643315368), np.float64(-0.9725700519097734), np.float64(0.0)], [np.float64(-1.716167676383715), np.float64(-1.0528356787001056), np.float64(0.0)], [np.float64(-1.7469616214244539), np.float64(-1.1479762743931532), np.float64(0.0)], [np.float64(-1.8386170957547832), np.float64(-1.1879671986795757), np.float64(0.0)], [np.float64(-1.9092843475885124), np.float64(-1.2587212764296836), np.float64(0.0)], [np.float64(-1.9847514058039284), np.float64(-1.3243316652740658), np.float64(0.0)], [np.float64(-2.055328517816652), np.float64(-1.3951756576795158), np.float64(0.0)], [np.float64(-2.149448962330452), np.float64(-1.3613919053046726), np.float64(0.0)], [np.float64(-2.240385170967084), np.float64(-1.4029924576903672), np.float64(0.0)], [np.float64(-2.2992688837260573), np.float64(-1.4838176293370684), np.float64(0.0)], [np.float64(-2.31738331437603), np.float64(-1.5821632820230276), np.float64(0.0)], [np.float64(-2.3901792354346627), np.float64(-1.650725326021331), np.float64(0.0)], [np.float64(-2.461989147470046), np.float64(-1.720319410062078), np.float64(0.0)], [np.float64(-2.5372792604181544), np.float64(-1.7861327741476576), np.float64(0.0)], [np.float64(-2.5241495197384367), np.float64(-1.8852670765342854), np.float64(0.0)], [np.float64(-2.598117430091596), np.float64(-1.9525630514361099), np.float64(0.0)], [np.float64(-2.607570540124779), np.float64(-2.0521152423246107), np.float64(0.0)], [np.float64(-2.704008290472586), np.float64(-2.078568225291642), np.float64(0.0)], [np.float64(-2.788101838746739), np.float64(-2.1326817646201937), np.float64(0.0)], [np.float64(-2.8653830928837785), np.float64(-2.1961452010147533), np.float64(0.0)], [np.float64(-2.9590018877765925), np.float64(-2.2312951831316368), np.float64(0.0)], [np.float64(-3.058591857952171), np.float64(-2.240341610074212), np.float64(0.0)], [np.float64(-3.155388385922175), np.float64(-2.265450018485584), np.float64(0.0)], [np.float64(-3.228788641827825), np.float64(-2.3333646887195263), np.float64(0.0)], [np.float64(-3.3287458782368278), np.float64(-2.330440498323077), np.float64(0.0)], [np.float64(-3.381642870281391), np.float64(-2.245576440956973), np.float64(0.0)], [np.float64(-3.476738383080806), np.float64(-2.2146435548094376), np.float64(0.0)], [np.float64(-3.551096342497834), np.float64(-2.2815082979207038), np.float64(0.0)], [np.float64(-3.561921488586672), np.float64(-2.3809206523448663), np.float64(0.0)], [np.float64(-3.6619178727005464), np.float64(-2.3800702617578393), np.float64(0.0)], [np.float64(-3.719516076501816), np.float64(-2.4618164966489178), np.float64(0.0)], [np.float64(-3.7961604799799513), np.float64(-2.5260476060545693), np.float64(0.0)], [np.float64(-3.8728423994077534), np.float64(-2.590233922609331), np.float64(0.0)], [np.float64(-3.949267100689126), np.float64(-2.6547262867624073), np.float64(0.0)], [np.float64(-3.9768852941700867), np.float64(-2.750836824107946), np.float64(0.0)], [np.float64(-4.076635178268475), np.float64(-2.757905106951616), np.float64(0.0)], [np.float64(-4.1533582527013), np.float64(-2.8220422245168395), np.float64(0.0)], [np.float64(-4.252549394343893), np.float64(-2.8347354281959394), np.float64(0.0)], [np.float64(-4.3443319697503915), np.float64(-2.874433776420399), np.float64(0.0)], [np.float64(-4.421925298873399), np.float64(-2.9375152735143066), np.float64(0.0)], [np.float64(-4.5), np.float64(-3.0), np.float64(0.0)]]\n"
     ]
    }
   ],
   "source": [
    "# PART 2    \n",
    "path_to_goal_3d = []\n",
    "for i, point in enumerate(path_to_goal):\n",
    "    # Add a z-coordinate of 0.0 to each point\n",
    "    path_to_goal_3d.append([point[0], point[1], np.float64(0.0)])\n",
    "    f = C.addFrame(f\"waypoint{i}\")\n",
    "    f.setPosition(path_to_goal_3d[i])\n",
    "print(path_to_goal_3d)"
   ]
  },
  {
   "cell_type": "code",
   "execution_count": 13,
   "id": "34cd1afd-9443-4453-8497-fa15b3cacee2",
   "metadata": {},
   "outputs": [
    {
     "name": "stdout",
     "output_type": "stream",
     "text": [
      "{ time: 0.018483, evals: 7, done: 1, feasible: 0, eq: 0.109336, ineq: 0, sos: 17.1969, f: 0 }\n",
      "False\n",
      "(90, 4)\n"
     ]
    }
   ],
   "source": [
    "# for i in range(len(path_to_goal)): # for each waypoint in rrt\n",
    "komo = ry.KOMO(C, phases=3, slicesPerPhase=30, kOrder=2, enableCollisions=True)  \n",
    "    \n",
    "komo.addControlObjective([], 0)\n",
    "komo.addControlObjective([], 2)\n",
    "komo.addObjective([], ry.FS.accumulatedCollisions, [], ry.OT.eq)\n",
    "\n",
    "komo.addObjective([1], ry.FS.distance, [\"ego1\",\"cargo\"],ry.OT.eq)\n",
    "komo.addModeSwitch([1,-1], ry.SY.stable, [\"ego1\", \"cargo\"], True)\n",
    "\n",
    "# solve\n",
    "ret = ry.NLP_Solver(komo.nlp(), verbose=0).solve() \n",
    "\n",
    "print(ret)\n",
    "print(ret.feasible)\n",
    "komo.view_play(True, f\"Solution, {ret.feasible}, {ret.eq}\")\n",
    "q = komo.getPath()\n",
    "print(q.shape)\n",
    "\n",
    "R = komo.report(False, plotOverTime=True)"
   ]
  },
  {
   "cell_type": "code",
   "execution_count": 14,
   "id": "5ef66248-5035-49f1-95cd-2c01ea93f01d",
   "metadata": {},
   "outputs": [],
   "source": [
    "del C"
   ]
  },
  {
   "cell_type": "code",
   "execution_count": 18,
   "id": "6abdaef5-df4a-4ef8-af6d-eb20d38f76a9",
   "metadata": {},
   "outputs": [],
   "source": [
    "# ego-1\n",
    "C_segment1 = ry.Config()\n",
    "C_segment1.addFile(\"maze.g\")\n",
    "C_segment1.addFile(\"cargo.g\")\n",
    "C_segment1.addFile(\"ego.g\")\n",
    "#C_segment1.view()\n",
    "\n",
    "current_holder = None\n",
    "\n",
    "#for i in range(len(path_to_goal)): # for each waypoint in rrt\n",
    "komo_ego1 = ry.KOMO(C_segment1, phases=4, slicesPerPhase=30, kOrder=2, enableCollisions=True)  \n",
    "\n",
    "komo_ego1.addControlObjective([], 0)\n",
    "komo_ego1.addControlObjective([], 2)\n",
    "komo_ego1.addObjective([], ry.FS.accumulatedCollisions, [], ry.OT.eq)\n",
    "\n",
    "if current_holder != \"ego1\": # if the current holder is not ego1\n",
    "    komo_ego1.addObjective([1], ry.FS.distance, [\"ego1\",\"cargo\"],ry.OT.eq)\n",
    "    komo_ego1.addModeSwitch([1,-1], ry.SY.stable, [\"ego1\", \"cargo\"], True)\n",
    "else: # already holding\n",
    "    komo_ego1.addModeSwitch([1,-1], ry.SY.stable, [\"ego1\", \"cargo\"], True)\n",
    "    \n",
    "komo_ego1.addObjective([3], ry.FS.position, [\"cargo\"], ry.OT.eq, [1e2], path_to_goal_3d[2])\n",
    "\n",
    "# solve\n",
    "ret1 = ry.NLP_Solver(komo_ego1.nlp(), verbose=2).solve() \n",
    "\n",
    "komo_ego1.view_play(True, f\"Solution, {ret1.feasible}, {ret1.eq}\")\n",
    "\n",
    "cost1 = ret1.eq\n",
    "\n",
    "del C_segment1"
   ]
  },
  {
   "cell_type": "code",
   "execution_count": 19,
   "id": "890ca1fd-34bf-4f75-b30d-4daa31e575e5",
   "metadata": {},
   "outputs": [],
   "source": [
    "# ego-2\n",
    "C_segment2 = ry.Config()\n",
    "C_segment2.addFile(\"maze.g\")\n",
    "C_segment2.addFile(\"cargo.g\")\n",
    "C_segment2.addFile(\"ego.g\")\n",
    "#C_segment2.view()\n",
    "\n",
    "\n",
    "#for i in range(len(path_to_goal)): # for each waypoint in rrt\n",
    "komo_ego2 = ry.KOMO(C_segment2, phases=3, slicesPerPhase=30, kOrder=2, enableCollisions=True)  \n",
    "    \n",
    "komo_ego2.addControlObjective([], 0)\n",
    "komo_ego2.addControlObjective([], 2)\n",
    "komo_ego2.addObjective([], ry.FS.accumulatedCollisions, [], ry.OT.eq)\n",
    "\n",
    "if current_holder != \"ego2\": # if the current holder is not ego1\n",
    "    komo_ego2.addObjective([1], ry.FS.distance, [\"ego2\",\"cargo\"],ry.OT.eq)\n",
    "    komo_ego2.addModeSwitch([1,-1], ry.SY.stable, [\"ego2\", \"cargo\"], True)\n",
    "else: # already holding\n",
    "    komo_ego2.addModeSwitch([1,-1], ry.SY.stable, [\"ego2\", \"cargo\"], True)\n",
    "    \n",
    "komo_ego2.addObjective([3], ry.FS.position, [\"cargo\"], ry.OT.eq, [1e2], path_to_goal_3d[2])\n",
    "\n",
    "# solve\n",
    "ret2 = ry.NLP_Solver(komo_ego2.nlp(), verbose=2).solve() \n",
    "\n",
    "komo_ego2.view_play(True, f\"Solution, {ret2.feasible}, {ret2.eq}\")\n",
    "\n",
    "cost2 = ret2.eq\n",
    "\n",
    "del C_segment2"
   ]
  },
  {
   "cell_type": "code",
   "execution_count": 19,
   "id": "bc831688-c341-422f-8396-75a651640de8",
   "metadata": {},
   "outputs": [
    {
     "name": "stdout",
     "output_type": "stream",
     "text": [
      "cost1: 11.21750720548711 cost2: 11.34789839237115 ret1.feasible: False ret2.feasible: False\n"
     ]
    }
   ],
   "source": [
    "C = ry.Config()\n",
    "C.addFile(\"maze.g\")\n",
    "C.addFile(\"cargo.g\")\n",
    "C.addFile(\"ego.g\")\n",
    "C.view()\n",
    "\n",
    "# 1 komo, we use Stable all the time. and \n",
    "total_path = []\n",
    "\n",
    "C_segment1 = C\n",
    "segment_path = []\n",
    "\n",
    "\n",
    "\n",
    "print(\"cost1:\",cost1, \"cost2:\",cost2, \"ret1.feasible:\",ret1.feasible,\"ret2.feasible:\",ret2.feasible)\n",
    "\n",
    "if cost1 < cost2:\n",
    "    segment_path = komo_ego1.getPath()\n",
    "    current_holder = \"ego1\"\n",
    "    C = C_segment1\n",
    "else:\n",
    "    segment_path = komo_ego2.getPath()\n",
    "    current_holder = \"ego2\"\n",
    "    C = C_segment2\n",
    "\n",
    "C.view()\n",
    "\n",
    "C.setJointState(segment_path[-1])\n",
    "total_path.extend(segment_path)\n",
    "    \n",
    "# Visualize the entire movement\n",
    "for i, config in enumerate(total_path):\n",
    "    C.setJointState(config)\n",
    "    C.view(False, f\"Step {i}\")\n",
    "    time.sleep(0.1)\n",
    "R = komo_ego1.report(False, plotOverTime=True)"
   ]
  },
  {
   "cell_type": "code",
   "execution_count": 108,
   "id": "2e2f0212-8dfa-4585-9710-260e2304754b",
   "metadata": {},
   "outputs": [
    {
     "name": "stdout",
     "output_type": "stream",
     "text": [
      "{ time: 0.291095, evals: 95, done: 1, feasible: 0, eq: 13.6088, ineq: 0, sos: 16.2845, f: 0 }\n",
      "False\n",
      "STACK9 /usr/bin/python3(+0x198a6b) [0x5bd41c3a5a6b]\n",
      "STACK8 /usr/bin/python3(_PyObject_MakeTpCall\n",
      "STACK7 /usr/bin/python3(+0x18ae12) [0x5bd41c397e12]\n",
      "STACK6 /home/omer/.local/lib/python3.10/site-packages/robotic/_robotic.so(+0x3f21e) [0x7b3ca0f2721e]\n",
      "STACK5 /home/omer/.local/lib/python3.10/site-packages/robotic/_robotic.so(+0x8f6ac) [0x7b3ca0f776ac]\n",
      "STACK4 KOMO::view_play(bool, char const*, double, char const*)\n",
      "STACK3 KOMO::view(bool, char const*)\n",
      "STACK2 KOMO::info_objectiveErrorTraces()\n",
      "STACK1 rai::Array<double>::operator()(int) const\n",
      "STACK0 rai::LogToken::~LogToken()\n"
     ]
    },
    {
     "name": "stderr",
     "output_type": "stream",
     "text": [
      "== ERROR:array.ipp:operator():738(-2) CHECK failed: 'nd==1 && (uint)i<d0' -- 1D range error (1=1, 480<480)\n"
     ]
    },
    {
     "ename": "RuntimeError",
     "evalue": "array.ipp:operator():738(-2) CHECK failed: 'nd==1 && (uint)i<d0' -- 1D range error (1=1, 480<480)",
     "output_type": "error",
     "traceback": [
      "\u001b[0;31m---------------------------------------------------------------------------\u001b[0m",
      "\u001b[0;31mRuntimeError\u001b[0m                              Traceback (most recent call last)",
      "Cell \u001b[0;32mIn[108], line 3\u001b[0m\n\u001b[1;32m      1\u001b[0m \u001b[38;5;28mprint\u001b[39m(ret)\n\u001b[1;32m      2\u001b[0m \u001b[38;5;28mprint\u001b[39m(ret\u001b[38;5;241m.\u001b[39mfeasible)\n\u001b[0;32m----> 3\u001b[0m \u001b[43mkomo\u001b[49m\u001b[38;5;241;43m.\u001b[39;49m\u001b[43mview_play\u001b[49m\u001b[43m(\u001b[49m\u001b[38;5;28;43;01mTrue\u001b[39;49;00m\u001b[43m,\u001b[49m\u001b[43m \u001b[49m\u001b[38;5;124;43mf\u001b[39;49m\u001b[38;5;124;43m\"\u001b[39;49m\u001b[38;5;124;43mSolution, \u001b[39;49m\u001b[38;5;132;43;01m{\u001b[39;49;00m\u001b[43mret\u001b[49m\u001b[38;5;241;43m.\u001b[39;49m\u001b[43mfeasible\u001b[49m\u001b[38;5;132;43;01m}\u001b[39;49;00m\u001b[38;5;124;43m, \u001b[39;49m\u001b[38;5;132;43;01m{\u001b[39;49;00m\u001b[43mret\u001b[49m\u001b[38;5;241;43m.\u001b[39;49m\u001b[43meq\u001b[49m\u001b[38;5;132;43;01m}\u001b[39;49;00m\u001b[38;5;124;43m\"\u001b[39;49m\u001b[43m)\u001b[49m\n\u001b[1;32m      4\u001b[0m q \u001b[38;5;241m=\u001b[39m komo\u001b[38;5;241m.\u001b[39mgetPath()\n\u001b[1;32m      5\u001b[0m \u001b[38;5;28mprint\u001b[39m(q\u001b[38;5;241m.\u001b[39mshape)\n",
      "\u001b[0;31mRuntimeError\u001b[0m: array.ipp:operator():738(-2) CHECK failed: 'nd==1 && (uint)i<d0' -- 1D range error (1=1, 480<480)"
     ]
    }
   ],
   "source": [
    "print(ret)\n",
    "print(ret.feasible)\n",
    "komo.view_play(True, f\"Solution, {ret.feasible}, {ret.eq}\")\n",
    "q = komo.getPath()\n",
    "print(q.shape)"
   ]
  },
  {
   "cell_type": "code",
   "execution_count": 82,
   "id": "0f20b9e9-4d8b-49e0-b6ce-f7d2c1619c75",
   "metadata": {},
   "outputs": [],
   "source": [
    "R = komo.report(False, plotOverTime=True)"
   ]
  },
  {
   "cell_type": "code",
   "execution_count": null,
   "id": "4c74fdb2-a150-4ba3-994d-b6635311d95e",
   "metadata": {},
   "outputs": [],
   "source": []
  }
 ],
 "metadata": {
  "kernelspec": {
   "display_name": "Python 3 (ipykernel)",
   "language": "python",
   "name": "python3"
  },
  "language_info": {
   "codemirror_mode": {
    "name": "ipython",
    "version": 3
   },
   "file_extension": ".py",
   "mimetype": "text/x-python",
   "name": "python",
   "nbconvert_exporter": "python",
   "pygments_lexer": "ipython3",
   "version": "3.10.12"
  }
 },
 "nbformat": 4,
 "nbformat_minor": 5
}
