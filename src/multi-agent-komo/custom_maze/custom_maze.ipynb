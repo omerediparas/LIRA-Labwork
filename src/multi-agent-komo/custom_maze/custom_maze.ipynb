{
 "cells": [
  {
   "cell_type": "code",
   "execution_count": null,
   "id": "93cdd8b9-3c27-4be2-ac2a-974d07041b91",
   "metadata": {},
   "outputs": [
    {
     "name": "stdout",
     "output_type": "stream",
     "text": [
      "version: 0.2.2 compile time: Nov 26 2024 16:47:22\n"
     ]
    }
   ],
   "source": [
    "import robotic as ry\n",
    "import numpy as np\n",
    "import time\n",
    "print('version:', ry.__version__, ry.compiled()) # mainpulation.o;rg checkpointleri rrt den alın, hepsini almanıza gerek yok."
   ]
  },
  {
   "cell_type": "code",
   "execution_count": 2,
   "id": "f157ac65-cc24-4167-b8e5-9b2864c8c5b5",
   "metadata": {},
   "outputs": [
    {
     "data": {
      "text/plain": [
       "<robotic._robotic.Frame at 0x795aa404ff70>"
      ]
     },
     "execution_count": 2,
     "metadata": {},
     "output_type": "execute_result"
    }
   ],
   "source": [
    "C = ry.Config()\n",
    "C.addFile(\"./custom_maze.g\")\n",
    "#C.view()"
   ]
  },
  {
   "cell_type": "code",
   "execution_count": 3,
   "id": "ddd3f8a3-9c10-442c-b53a-17cc53c1afb2",
   "metadata": {},
   "outputs": [],
   "source": [
    "#C.getFrameNames()"
   ]
  },
  {
   "cell_type": "code",
   "execution_count": null,
   "id": "440c08fa-7908-4bdb-b565-c4ac378f7189",
   "metadata": {},
   "outputs": [],
   "source": [
    " # rrt dene slicesperphase = 1\n",
    "# yerle collision çözülecek\n",
    "# github hesabı açılacak.\n",
    "\n",
    "komo = ry.KOMO(C, phases=7, slicesPerPhase = 20, kOrder = 2, enableCollisions = True) \n",
    "\n",
    "komo.addControlObjective([], 2, 1e0) # penalize acceleration\n",
    "komo.addObjective([], ry.FS.accumulatedCollisions, [], ry.OT.sos, [1e2]) # avoid collisions  # no sos here.\n",
    "\n",
    "\n",
    "###### Robot 1 stages ######\n",
    "# go near the cargo\n",
    "komo.addObjective([1.0, 2.8], ry.FS.distance, [\"ego\",\"cargo\"],ry.OT.eq, [1e2])\n",
    "\n",
    "# grasping phase - make it stable.\n",
    "komo.addModeSwitch([1.3, 3], ry.SY.stable, [\"ego\", \"cargo\"], True) \n",
    "\n",
    "# move it to the passage_point\n",
    "komo.addObjective([2, 3], ry.FS.distance, [\"cargo\",\"passage_line\"],ry.OT.eq, [1e2]) \n",
    "\"\"\"\n",
    "##slow - down - up\n",
    "komo.addObjective([3.], ry.FS.qItself, [], ry.OT.eq, [], [], 1)\n",
    "komo.addObjective([2.9,3.1], ry.FS.position, [\"l_gripper\"], ry.OT.eq, [], [0.,0.,.1], 2)\n",
    "\"\"\"\n",
    "#place\n",
    "komo.addModeSwitch([3., 4.], ry.SY.stable, [ \"passage\",\"cargo\"], True)\n",
    "komo.addObjective([3., 4.], ry.FS.positionDiff, [\"cargo\", \"passage\"], ry.OT.eq,  [1e2, 1e2, 0])\n",
    "#komo.addObjective([3., 4.], ry.FS.vectorZ, [\"l_gripper\"], ry.OT.eq, [1e2], [0., 0., 1.])\n",
    "\n",
    "\n",
    "###### Robot 2 stages ######\n",
    "# grasping \n",
    "komo.addObjective([4.5,6], ry.FS.distance, [\"ego2\",\"cargo\"],ry.OT.eq, [1e2])\n",
    "\n",
    "komo.addModeSwitch([4.7,6], ry.SY.stable, [\"ego2\", \"cargo\"], True) # make it stable.\n",
    "\n",
    "# move it to the goal area\n",
    "komo.addObjective([5,-1], ry.FS.positionDiff, [\"cargo\",\"goal_area\"],ry.OT.eq,[1e2, 1e2, 0])\n",
    "\n",
    "komo.addModeSwitch([6.1, -1], ry.SY.stable, [\"goal_area\", \"cargo\"], True) \n",
    "\n",
    "\n",
    "\"\"\"\n",
    "#slow - down - up\n",
    "komo.addObjective([7.], ry.FS.qItself, [], ry.OT.eq, [], [], 1)\n",
    "komo.addObjective([6.9,7.1], ry.FS.position, [\"l_gripper\"], ry.OT.eq, [], [0.,0.,.1], 2)\n",
    "\n",
    "#place\n",
    "komo.addModeSwitch([7., 8.], ry.SY.stable, [\"floorwalls\", \"box\"])\n",
    "komo.addObjective([7., 8.], ry.FS.positionDiff, [\"box\", \"table\"], ry.OT.eq, [1e2], [0,0,.08])\n",
    "komo.addObjective([7., 8.], ry.FS.vectorZ, [\"gripper\"], ry.OT.eq, [1e2], [0., 0., 1.])\n",
    "\"\"\"\n",
    "\n",
    "\n",
    "solver = ry.NLP_Solver(komo.nlp(),verbose = 4)\n",
    "for i in range(10):\n",
    "    ret = solver.solve()\n",
    "    if ret.feasible:\n",
    "        print(\"feasible\")\n",
    "        break\n",
    "print(ret)\n",
    "print(ret.feasible)\n",
    "komo.view_play(True, f\"Solution, {ret.feasible}, {ret.eq}\")\n",
    "q = komo.getPath()\n",
    "print(q.shape)\n"
   ]
  },
  {
   "cell_type": "code",
   "execution_count": null,
   "id": "9994cb2c-d1bf-4692-b006-d986272c9683",
   "metadata": {},
   "outputs": [],
   "source": [
    "\n",
    "komo = ry.KOMO(C, phases=7.3, slicesPerPhase = 20, kOrder = 2, enableCollisions = True) \n",
    "\n",
    "komo.addControlObjective([], 2, 1e0) # penalize acceleration\n",
    "komo.addObjective([], ry.FS.accumulatedCollisions, [], ry.OT.eq, [1e2]) # avoid collisions  # no sos here.\n",
    "\n",
    "\n",
    "###### Robot 1 stages ######\n",
    "# go near the cargo\n",
    "komo.addObjective([1.0, 2.8], ry.FS.distance, [\"l_gripper\",\"cargo\"],ry.OT.eq, [1e2])\n",
    "\n",
    "# grasping phase - make it stable.\n",
    "komo.addModeSwitch([1.3, 3], ry.SY.stable, [\"l_gripper\", \"cargo\"], True) \n",
    "\n",
    "# move it to the passage_point\n",
    "komo.addObjective([2, 3], ry.FS.distance, [\"cargo\",\"passage\"],ry.OT.eq, [1e2]) \n",
    "\"\"\"\n",
    "##slow - down - up\n",
    "komo.addObjective([3.], ry.FS.qItself, [], ry.OT.eq, [], [], 1)\n",
    "komo.addObjective([2.9,3.1], ry.FS.position, [\"l_gripper\"], ry.OT.eq, [], [0.,0.,.1], 2)\n",
    "\"\"\"\n",
    "#place\n",
    "komo.addModeSwitch([3., 4.], ry.SY.stable, [ \"passage\",\"cargo\"], True)\n",
    "komo.addObjective([3., 4.], ry.FS.distance, [\"cargo\", \"passage\"], ry.OT.eq, [1e2])\n",
    "#komo.addObjective([3., 4.], ry.FS.vectorZ, [\"l_gripper\"], ry.OT.eq, [1e2], [0., 0., 1.])\n",
    "\n",
    "\n",
    "###### Robot 2 stages ######\n",
    "# grasping \n",
    "komo.addObjective([4.5,7], ry.FS.distance, [\"r_gripper\",\"cargo\"],ry.OT.eq, [1e2])\n",
    "\n",
    "komo.addModeSwitch([4.7,6.8], ry.SY.stable, [\"r_gripper\", \"cargo\"], True) # make it stable.\n",
    "\n",
    "# move it to the goal area\n",
    "komo.addObjective([5,7], ry.FS.distance, [\"cargo\",\"goal_area\"],ry.OT.eq, [1e2])\n",
    "\n",
    "\"\"\"\n",
    "#slow - down - up\n",
    "komo.addObjective([7.], ry.FS.qItself, [], ry.OT.eq, [], [], 1)\n",
    "komo.addObjective([6.9,7.1], ry.FS.position, [\"l_gripper\"], ry.OT.eq, [], [0.,0.,.1], 2)\n",
    "\n",
    "#place\n",
    "komo.addModeSwitch([7., 8.], ry.SY.stable, [\"floorwalls\", \"box\"])\n",
    "komo.addObjective([7., 8.], ry.FS.positionDiff, [\"box\", \"table\"], ry.OT.eq, [1e2], [0,0,.08])\n",
    "komo.addObjective([7., 8.], ry.FS.vectorZ, [\"gripper\"], ry.OT.eq, [1e2], [0., 0., 1.])\n",
    "\"\"\"\n",
    "\n",
    "solver = ry.NLP_Solver(komo.nlp(),verbose = 4)\n",
    "ret = solver.solve()\n",
    "print(ret)\n",
    "print(ret.feasible)\n",
    "komo.view_play(True, f\"Solution, {ret.feasible}, {ret.eq}\")\n",
    "q = komo.getPath()\n",
    "print(q.shape)\n"
   ]
  },
  {
   "cell_type": "code",
   "execution_count": null,
   "id": "101ef742-e58e-491b-8ff5-0477edc67f19",
   "metadata": {},
   "outputs": [],
   "source": [
    "# First successful attempt\n",
    "komo = ry.KOMO(C, phases=8, slicesPerPhase = 20, kOrder = 2, enableCollisions = True) \n",
    "\n",
    "komo.addControlObjective([], 2, 1e0) # penalize acceleration\n",
    "komo.addObjective([], ry.FS.accumulatedCollisions, [], ry.OT.eq, [1e2]) # avoid collisions  # no sos here.\n",
    "\n",
    "\n",
    "###### Robot 2 stages ######\n",
    "# go near the cargo\n",
    "komo.addObjective([1.0, 3], ry.FS.distance, [\"l_gripper\",\"cargo_handle\"],ry.OT.eq, [1e2])\n",
    "\n",
    "# grasping phase - make it stable.\n",
    "komo.addModeSwitch([1.3, 3], ry.SY.stable, [\"l_gripper\", \"cargo_handle\"], True) \n",
    "\n",
    "# move it to the passage_point\n",
    "komo.addObjective([2, 3], ry.FS.distance, [\"cargo\",\"passage\"],ry.OT.eq, [1e2]) \n",
    "\n",
    "\n",
    "\n",
    "###### Robot 2 stages ######\n",
    "# grasping \n",
    "komo.addObjective([3.2,7], ry.FS.distance, [\"r_gripper\",\"cargo_handle\"],ry.OT.eq, [1e2])\n",
    "\n",
    "komo.addModeSwitch([3.5,6.8], ry.SY.stable, [\"r_gripper\", \"cargo_handle\"], True) # make it stable.\n",
    "\n",
    "# move it to the goal area\n",
    "komo.addObjective([4,7], ry.FS.distance, [\"cargo\",\"goal_area\"],ry.OT.eq, [1e2])\n",
    "\n",
    "\n",
    "# OPTIONAL - leave the cargo\n",
    "\n",
    "\n",
    "solver = ry.NLP_Solver(komo.nlp(),verbose = 4)\n",
    "ret = solver.solve()\n",
    "print(ret)\n",
    "print(ret.feasible)\n",
    "komo.view_play(True, f\"Solution, {ret.feasible}, {ret.eq}\")\n",
    "q = komo.getPath()\n",
    "print(q.shape)\n"
   ]
  },
  {
   "cell_type": "code",
   "execution_count": 12,
   "id": "e014f80a-4ed3-494b-8a69-7fcdbe1c6803",
   "metadata": {},
   "outputs": [
    {
     "name": "stdout",
     "output_type": "stream",
     "text": [
      "{ time: 3.82025, evals: 72, done: 1, feasible: 0, eq: 9162.19, ineq: 0, sos: 4587.46, f: 0 }\n",
      "False\n",
      "(200, 20)\n"
     ]
    }
   ],
   "source": []
  },
  {
   "cell_type": "code",
   "execution_count": null,
   "id": "a65a021f-fe56-48b6-8771-966b5aae50bb",
   "metadata": {},
   "outputs": [],
   "source": [
    "# Report\n",
    "komo.report()\n",
    "print(\"ret.feasible:\",ret.feasible)"
   ]
  }
 ],
 "metadata": {
  "kernelspec": {
   "display_name": "Python 3 (ipykernel)",
   "language": "python",
   "name": "python3"
  },
  "language_info": {
   "codemirror_mode": {
    "name": "ipython",
    "version": 3
   },
   "file_extension": ".py",
   "mimetype": "text/x-python",
   "name": "python",
   "nbconvert_exporter": "python",
   "pygments_lexer": "ipython3",
   "version": "3.10.12"
  }
 },
 "nbformat": 4,
 "nbformat_minor": 5
}
