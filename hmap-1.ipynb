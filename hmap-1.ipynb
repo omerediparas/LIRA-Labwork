{
 "cells": [
  {
   "cell_type": "code",
   "execution_count": 140,
   "id": "066d87ee-2e78-4216-944d-46a1d462bb87",
   "metadata": {},
   "outputs": [
    {
     "name": "stdout",
     "output_type": "stream",
     "text": [
      "version: 0.2.2 compile time: Nov 26 2024 16:47:22\n"
     ]
    }
   ],
   "source": [
    "import robotic as ry\n",
    "import numpy as np\n",
    "import time\n",
    "print('version:', ry.__version__, ry.compiled())"
   ]
  },
  {
   "cell_type": "code",
   "execution_count": 141,
   "id": "d0d1ebc9-9b6d-4ddc-8917-13c994cc57f3",
   "metadata": {},
   "outputs": [
    {
     "data": {
      "text/plain": [
       "<robotic._robotic.Frame at 0x7b3ca02e9270>"
      ]
     },
     "execution_count": 141,
     "metadata": {},
     "output_type": "execute_result"
    }
   ],
   "source": [
    "C = ry.Config()\n",
    "C.addFile(\"maze.g\")\n",
    "C.addFile(\"cargo2.g\")\n",
    "#C.view()"
   ]
  },
  {
   "cell_type": "code",
   "execution_count": 142,
   "id": "ed68c5ce-27c4-4965-ad55-046e8f80883e",
   "metadata": {},
   "outputs": [
    {
     "name": "stdout",
     "output_type": "stream",
     "text": [
      "q_start:  [0.5 1. ]\n",
      "q_end:  [-4.5 -3. ]\n"
     ]
    },
    {
     "data": {
      "text/plain": [
       "0"
      ]
     },
     "execution_count": 142,
     "metadata": {},
     "output_type": "execute_result"
    }
   ],
   "source": [
    "ego = C.getFrame(\"cargo2\")\n",
    "\n",
    "end_pos = C.getFrame(\"goal_area\").getPosition()\n",
    "start_pos = C.getFrame(\"cargo2\").getPosition()\n",
    "\n",
    "q_start = ego.getJointState()\n",
    "print(\"q_start: \",q_start)\n",
    "\n",
    "ego.setPosition(end_pos)\n",
    "q_end = ego.getJointState()\n",
    "\n",
    "print(\"q_end: \",q_end)\n",
    "\n",
    "\n",
    "ego.setPosition(start_pos)\n",
    "C.view()"
   ]
  },
  {
   "cell_type": "code",
   "execution_count": 143,
   "id": "1d5c9731-c6e2-466b-b29f-f6bd0077f2a5",
   "metadata": {},
   "outputs": [],
   "source": [
    "#RRT Part"
   ]
  },
  {
   "cell_type": "code",
   "execution_count": 144,
   "id": "d58e1b01-1be2-4130-b072-49aefc376b49",
   "metadata": {},
   "outputs": [],
   "source": [
    "# rrt function, returns the pathways.\n",
    "def rrt_path(q_start, q_end):\n",
    "    for i in range(5):\n",
    "        rrt = ry.PathFinder()\n",
    "        rrt.setProblem(C, [q_start], [q_end])\n",
    "        result = rrt.solve()\n",
    "        print(\"result.feasible: \",result.feasible)\n",
    "        if result.feasible:\n",
    "            return result.x\n",
    "    raise ValueError(\"No feasible path found after 5 attempts. Please restart the kernel\")"
   ]
  },
  {
   "cell_type": "code",
   "execution_count": 145,
   "id": "b763339a-27ba-4f57-89da-1e78dce95ae0",
   "metadata": {},
   "outputs": [
    {
     "name": "stdout",
     "output_type": "stream",
     "text": [
      "result.feasible:  True\n"
     ]
    }
   ],
   "source": [
    "#viewing the solution\n",
    "path_to_goal = rrt_path(q_start, q_end)\n",
    "\n",
    "#for config in path_to_goal:\n",
    "#    C.setJointState(config)\n",
    "#    C.view()\n",
    "#    time.sleep(0.1)"
   ]
  },
  {
   "cell_type": "code",
   "execution_count": 146,
   "id": "17ba604d-6f73-4b87-adf1-adc30fbfc187",
   "metadata": {},
   "outputs": [],
   "source": [
    "#print(path_to_goal) # rrt returns an array of points\n",
    "del C"
   ]
  },
  {
   "cell_type": "code",
   "execution_count": 147,
   "id": "369ec097-7e4a-48ca-b6e5-ebe3accaec4b",
   "metadata": {},
   "outputs": [
    {
     "data": {
      "text/plain": [
       "0"
      ]
     },
     "execution_count": 147,
     "metadata": {},
     "output_type": "execute_result"
    }
   ],
   "source": [
    "# reconfiguration\n",
    "C = ry.Config()\n",
    "C.addFile(\"maze.g\")\n",
    "C.addFile(\"cargo.g\")\n",
    "C.addFile(\"ego.g\")\n",
    "C.view()"
   ]
  },
  {
   "cell_type": "code",
   "execution_count": 148,
   "id": "6669626b-99c3-49d2-83f1-7cff0a42c1ef",
   "metadata": {},
   "outputs": [
    {
     "name": "stdout",
     "output_type": "stream",
     "text": [
      "[[np.float64(0.5), np.float64(1.0), np.float64(0.0)], [np.float64(0.5509817952456437), np.float64(0.9139717688573614), np.float64(0.0)], [np.float64(0.4713550620564835), np.float64(0.8534772785163206), np.float64(0.0)], [np.float64(0.3918269102229651), np.float64(0.7928532480832914), np.float64(0.0)], [np.float64(0.3104114489687117), np.float64(0.7347884337052435), np.float64(0.0)], [np.float64(0.21840231422199552), np.float64(0.6956180479123945), np.float64(0.0)], [np.float64(0.13968118423065545), np.float64(0.6339497116863656), np.float64(0.0)], [np.float64(0.1270835882890223), np.float64(0.5347463822236336), np.float64(0.0)], [np.float64(0.04697135130250377), np.float64(0.4748963238693104), np.float64(0.0)], [np.float64(-0.03302587639011775), np.float64(0.4148926276373709), np.float64(0.0)], [np.float64(-0.11314022361328975), np.float64(0.35504539404211577), np.float64(0.0)], [np.float64(-0.162116187433036), np.float64(0.26785964424361425), np.float64(0.0)], [np.float64(-0.21604748351348485), np.float64(0.1836491027236658), np.float64(0.0)], [np.float64(-0.2877245877327854), np.float64(0.11391824348089208), np.float64(0.0)], [np.float64(-0.36886421182225265), np.float64(0.055468595042086656), np.float64(0.0)], [np.float64(-0.3567402383917225), np.float64(-0.043793730481023065), np.float64(0.0)], [np.float64(-0.2918560196397948), np.float64(-0.11988603072849882), np.float64(0.0)], [np.float64(-0.24268227776060272), np.float64(-0.20696038464283223), np.float64(0.0)], [np.float64(-0.19781397706198883), np.float64(-0.2963294821677528), np.float64(0.0)], [np.float64(-0.13787688142715232), np.float64(-0.3763766218222118), np.float64(0.0)], [np.float64(-0.07324842203281566), np.float64(-0.452686268894614), np.float64(0.0)], [np.float64(0.014713950142551321), np.float64(-0.5002532856318682), np.float64(0.0)], [np.float64(0.028043038426240174), np.float64(-0.5993609816273137), np.float64(0.0)], [np.float64(0.09751121019355823), np.float64(-0.6712927069736891), np.float64(0.0)], [np.float64(0.1659887054752628), np.float64(-0.7441681667660235), np.float64(0.0)], [np.float64(0.15662942139288977), np.float64(-0.8437292224126238), np.float64(0.0)], [np.float64(0.1295893024420682), np.float64(-0.9400039956770955), np.float64(0.0)], [np.float64(0.22177422714901346), np.float64(-0.9787588619105743), np.float64(0.0)], [np.float64(0.2756166967279947), np.float64(-1.0630262249263736), np.float64(0.0)], [np.float64(0.3489531246390063), np.float64(-1.1310098136905231), np.float64(0.0)], [np.float64(0.2910324953073373), np.float64(-1.2125279141211847), np.float64(0.0)], [np.float64(0.24523770117027477), np.float64(-1.3014258152771965), np.float64(0.0)], [np.float64(0.19028884073652494), np.float64(-1.3849759363844234), np.float64(0.0)], [np.float64(0.1421592482606155), np.float64(-1.4726317538074722), np.float64(0.0)], [np.float64(0.11572108608287109), np.float64(-1.5690735682899015), np.float64(0.0)], [np.float64(0.12485148513077356), np.float64(-1.6686558750176836), np.float64(0.0)], [np.float64(0.04618034185611389), np.float64(-1.7303879672862759), np.float64(0.0)], [np.float64(0.05330782977314412), np.float64(-1.8301336384504552), np.float64(0.0)], [np.float64(0.12454271423981467), np.float64(-1.9003161949372354), np.float64(0.0)], [np.float64(0.1982329491874341), np.float64(-1.96791611559817), np.float64(0.0)], [np.float64(0.20549247629799886), np.float64(-2.0676522638400736), np.float64(0.0)], [np.float64(0.28801480128005497), np.float64(-2.124132932033323), np.float64(0.0)], [np.float64(0.3786747471240214), np.float64(-2.1663321526371337), np.float64(0.0)], [np.float64(0.4411969016129027), np.float64(-2.2443768846699137), np.float64(0.0)], [np.float64(0.5268477690285045), np.float64(-2.29599014760644), np.float64(0.0)], [np.float64(0.6253884424297692), np.float64(-2.278968523546872), np.float64(0.0)], [np.float64(0.7235292600967171), np.float64(-2.2597752979799464), np.float64(0.0)], [np.float64(0.8218865702588541), np.float64(-2.277826323925005), np.float64(0.0)], [np.float64(0.9216409527654955), np.float64(-2.270821813184155), np.float64(0.0)], [np.float64(1.0098972263464825), np.float64(-2.3178412790849707), np.float64(0.0)], [np.float64(1.079904364130429), np.float64(-2.389248566243212), np.float64(0.0)], [np.float64(1.0518855298287195), np.float64(-2.4852430709003714), np.float64(0.0)], [np.float64(1.1448465375832455), np.float64(-2.522097528395537), np.float64(0.0)], [np.float64(1.2442119455491998), np.float64(-2.5108496085985497), np.float64(0.0)], [np.float64(1.2638223234317465), np.float64(-2.6089079232857997), np.float64(0.0)], [np.float64(1.3580720370422714), np.float64(-2.642329345821862), np.float64(0.0)], [np.float64(1.4455486549542813), np.float64(-2.5938748174609727), np.float64(0.0)], [np.float64(1.5213701727458728), np.float64(-2.5286743769733553), np.float64(0.0)], [np.float64(1.6200864784302758), np.float64(-2.5446459452126833), np.float64(0.0)], [np.float64(1.7152337722239042), np.float64(-2.575419188196629), np.float64(0.0)], [np.float64(1.8152067429157126), np.float64(-2.573094294423825), np.float64(0.0)], [np.float64(1.8820525214157333), np.float64(-2.498719285874406), np.float64(0.0)], [np.float64(1.9773354233420757), np.float64(-2.468368526402936), np.float64(0.0)], [np.float64(2.0772919183075396), np.float64(-2.471317952485954), np.float64(0.0)], [np.float64(2.172214619321257), np.float64(-2.5027771456138845), np.float64(0.0)], [np.float64(2.2384848433127766), np.float64(-2.42788884604637), np.float64(0.0)], [np.float64(2.3123883837886097), np.float64(-2.360522187340918), np.float64(0.0)], [np.float64(2.3914145311178263), np.float64(-2.299245209296134), np.float64(0.0)], [np.float64(2.48332901960845), np.float64(-2.2598532455788094), np.float64(0.0)], [np.float64(2.5526903710702697), np.float64(-2.33188797972415), np.float64(0.0)], [np.float64(2.6347897445494644), np.float64(-2.2747942596288215), np.float64(0.0)], [np.float64(2.7169801428756752), np.float64(-2.33175686510802), np.float64(0.0)], [np.float64(2.7791514746801074), np.float64(-2.410081353626383), np.float64(0.0)], [np.float64(2.8665829493816766), np.float64(-2.458617291152189), np.float64(0.0)], [np.float64(2.9352966342552147), np.float64(-2.5312700922757525), np.float64(0.0)], [np.float64(3.026961362050747), np.float64(-2.4913003827675397), np.float64(0.0)], [np.float64(3.059230159099566), np.float64(-2.3966498426897243), np.float64(0.0)], [np.float64(3.08652604016071), np.float64(-2.3004472705978314), np.float64(0.0)], [np.float64(3.136685308774046), np.float64(-2.2139368794752894), np.float64(0.0)], [np.float64(3.220971039584093), np.float64(-2.160123167636983), np.float64(0.0)], [np.float64(3.23366465755445), np.float64(-2.0609320790109242), np.float64(0.0)], [np.float64(3.2108400297247255), np.float64(-1.9635717361374803), np.float64(0.0)], [np.float64(3.28011453441887), np.float64(-1.8914534790912858), np.float64(0.0)], [np.float64(3.2630982130618764), np.float64(-1.7929118898638152), np.float64(0.0)], [np.float64(3.228917834143033), np.float64(-1.6989347559589962), np.float64(0.0)], [np.float64(3.217823564892514), np.float64(-1.599552075426637), np.float64(0.0)], [np.float64(3.2221672763810534), np.float64(-1.499646459115519), np.float64(0.0)], [np.float64(3.2599127463741544), np.float64(-1.4070436541094073), np.float64(0.0)], [np.float64(3.2929916263049677), np.float64(-1.3126731730121763), np.float64(0.0)], [np.float64(3.3228009952459283), np.float64(-1.2172195113572053), np.float64(0.0)], [np.float64(3.2946588769105927), np.float64(-1.1212610767326243), np.float64(0.0)], [np.float64(3.2400319473901287), np.float64(-1.0375001158309831), np.float64(0.0)], [np.float64(3.250620256855592), np.float64(-0.9380622573330067), np.float64(0.0)], [np.float64(3.2220037678947206), np.float64(-0.8422442185326204), np.float64(0.0)], [np.float64(3.293069096769221), np.float64(-0.771889978916524), np.float64(0.0)], [np.float64(3.2990928213933786), np.float64(-0.6720715700850248), np.float64(0.0)], [np.float64(3.302379483642434), np.float64(-0.572125595422407), np.float64(0.0)], [np.float64(3.3813366546617982), np.float64(-0.5107597649903265), np.float64(0.0)], [np.float64(3.3550505458041493), np.float64(-0.41427639605492994), np.float64(0.0)], [np.float64(3.325278665490407), np.float64(-0.318811035098276), np.float64(0.0)], [np.float64(3.3649098353777447), np.float64(-0.226999432490757), np.float64(0.0)], [np.float64(3.3940285080209707), np.float64(-0.13133280872103964), np.float64(0.0)], [np.float64(3.354255880413512), np.float64(-0.03958239676992946), np.float64(0.0)], [np.float64(3.296563686254345), np.float64(0.042097531811705335), np.float64(0.0)], [np.float64(3.227652710420754), np.float64(0.11456322997064317), np.float64(0.0)], [np.float64(3.2671228902258127), np.float64(0.20644415784012182), np.float64(0.0)], [np.float64(3.2651106485933883), np.float64(0.3064239102083525), np.float64(0.0)], [np.float64(3.3613502746223034), np.float64(0.3335888578765254), np.float64(0.0)], [np.float64(3.3582524470886286), np.float64(0.43354086368217004), np.float64(0.0)], [np.float64(3.320765712284163), np.float64(0.5262487097023406), np.float64(0.0)], [np.float64(3.350096826339439), np.float64(0.6218504133915344), np.float64(0.0)], [np.float64(3.3529074956846), np.float64(0.7218109062766346), np.float64(0.0)], [np.float64(3.2758136492539314), np.float64(0.785501869862723), np.float64(0.0)], [np.float64(3.2522933176369686), np.float64(0.8826964890585823), np.float64(0.0)], [np.float64(3.252952188215584), np.float64(0.9826943184828285), np.float64(0.0)], [np.float64(3.2383972313769407), np.float64(1.081629414537895), np.float64(0.0)], [np.float64(3.23894013872187), np.float64(1.1816279407851094), np.float64(0.0)], [np.float64(3.219445427951849), np.float64(1.2797093164483475), np.float64(0.0)], [np.float64(3.2792939102439904), np.float64(1.3598227308514748), np.float64(0.0)], [np.float64(3.2342647694626563), np.float64(1.4491108962514583), np.float64(0.0)], [np.float64(3.2116949140293096), np.float64(1.5465306151266318), np.float64(0.0)], [np.float64(3.2238794355938714), np.float64(1.645785526512632), np.float64(0.0)], [np.float64(3.23814781865737), np.float64(1.7447623583711698), np.float64(0.0)], [np.float64(3.2628764817483504), np.float64(1.8416565956700555), np.float64(0.0)], [np.float64(3.2594705735576), np.float64(1.9415985777866624), np.float64(0.0)], [np.float64(3.23783557033149), np.float64(2.0392301640454455), np.float64(0.0)], [np.float64(3.23659222775496), np.float64(2.139222434242883), np.float64(0.0)], [np.float64(3.2814502346425716), np.float64(2.228596699096201), np.float64(0.0)], [np.float64(3.2171940161882238), np.float64(2.3052200531727953), np.float64(0.0)], [np.float64(3.1446373187938), np.float64(2.3740352089396324), np.float64(0.0)], [np.float64(3.0650789393908333), np.float64(2.4346195655572744), np.float64(0.0)], [np.float64(2.981392222545528), np.float64(2.4893601667930447), np.float64(0.0)], [np.float64(2.990519315467591), np.float64(2.588942776594114), np.float64(0.0)], [np.float64(2.9291869246121425), np.float64(2.667925925632086), np.float64(0.0)], [np.float64(2.8357810507455943), np.float64(2.7036378665934295), np.float64(0.0)], [np.float64(2.757990989405985), np.float64(2.7664765995276626), np.float64(0.0)], [np.float64(2.679393346365252), np.float64(2.7046509534862215), np.float64(0.0)], [np.float64(2.6124236817865847), np.float64(2.7789144305541638), np.float64(0.0)], [np.float64(2.5923824310302734), np.float64(2.8978118896484375), np.float64(0.0)], [np.float64(2.5756406337961555), np.float64(2.9595308874010557), np.float64(0.0)], [np.float64(2.5116440737599675), np.float64(3.03637124335764), np.float64(0.0)], [np.float64(2.549360071461318), np.float64(3.128986055981711), np.float64(0.0)], [np.float64(2.5025447690545004), np.float64(3.217350797030153), np.float64(0.0)], [np.float64(2.410805140241746), np.float64(3.257148290736391), np.float64(0.0)], [np.float64(2.3116282749264987), np.float64(3.2443440185492944), np.float64(0.0)], [np.float64(2.227328026856184), np.float64(3.298134985962824), np.float64(0.0)], [np.float64(2.1538750965804665), np.float64(3.3659926829021583), np.float64(0.0)], [np.float64(2.05484512759119), np.float64(3.3798874748035486), np.float64(0.0)], [np.float64(1.9582564378515506), np.float64(3.3539910462007527), np.float64(0.0)], [np.float64(1.9022225237650674), np.float64(3.2711647190327042), np.float64(0.0)], [np.float64(1.8028164146431573), np.float64(3.260282372353659), np.float64(0.0)], [np.float64(1.7196005480306116), np.float64(3.204828611940834), np.float64(0.0)], [np.float64(1.6276384239467303), np.float64(3.1655479839674827), np.float64(0.0)], [np.float64(1.532976393748695), np.float64(3.1977830586344704), np.float64(0.0)], [np.float64(1.5170674488289961), np.float64(3.2965094759276243), np.float64(0.0)], [np.float64(1.4202158677881884), np.float64(3.3214046812872082), np.float64(0.0)], [np.float64(1.3445160315880949), np.float64(3.3867463586400204), np.float64(0.0)], [np.float64(1.2775610321052138), np.float64(3.312469659438673), np.float64(0.0)], [np.float64(1.1780352023243046), np.float64(3.302742933040675), np.float64(0.0)], [np.float64(1.0791534829260598), np.float64(3.3176562012554816), np.float64(0.0)], [np.float64(0.9791679064637961), np.float64(3.3159578198175104), np.float64(0.0)], [np.float64(0.9121798790887997), np.float64(3.2417109061550105), np.float64(0.0)], [np.float64(0.8181330407517651), np.float64(3.2077227876603414), np.float64(0.0)], [np.float64(0.7181447320106864), np.float64(3.209251877291047), np.float64(0.0)], [np.float64(0.6436242951439484), np.float64(3.142568262443091), np.float64(0.0)], [np.float64(0.5500889113188795), np.float64(3.1071969184949593), np.float64(0.0)], [np.float64(0.4502579718764019), np.float64(3.101384558386332), np.float64(0.0)], [np.float64(0.35369231969088105), np.float64(3.0754023564399033), np.float64(0.0)], [np.float64(0.25376010810148897), np.float64(3.0790838081716214), np.float64(0.0)], [np.float64(0.15576068848405195), np.float64(3.0989864149015327), np.float64(0.0)], [np.float64(0.06212660530417543), np.float64(3.1340956511088893), np.float64(0.0)], [np.float64(0.022735360720625125), np.float64(3.2260104477966856), np.float64(0.0)], [np.float64(-0.06862399905213339), np.float64(3.266673297941648), np.float64(0.0)], [np.float64(-0.16486613913786102), np.float64(3.239517258618522), np.float64(0.0)], [np.float64(-0.2611672806555839), np.float64(3.2125711987510104), np.float64(0.0)], [np.float64(-0.36039747072876155), np.float64(3.2001869596528243), np.float64(0.0)], [np.float64(-0.45599921677774957), np.float64(3.229517935640418), np.float64(0.0)], [np.float64(-0.5558313781657875), np.float64(3.2353092699074706), np.float64(0.0)], [np.float64(-0.654576130117215), np.float64(3.251104014668025), np.float64(0.0)], [np.float64(-0.7538097450640349), np.float64(3.2387472487243687), np.float64(0.0)], [np.float64(-0.8532419301253781), np.float64(3.2493887041664964), np.float64(0.0)], [np.float64(-0.9507771073510751), np.float64(3.2714542701812594), np.float64(0.0)], [np.float64(-1.049502086138307), np.float64(3.2873721394940976), np.float64(0.0)], [np.float64(-1.1470098081587472), np.float64(3.309558715308868), np.float64(0.0)], [np.float64(-1.2468091870280247), np.float64(3.3158899061373313), np.float64(0.0)], [np.float64(-1.3226738458817482), np.float64(3.2507396679412346), np.float64(0.0)], [np.float64(-1.3839462163460585), np.float64(3.1717099481031616), np.float64(0.0)], [np.float64(-1.4834957422398052), np.float64(3.1622288145037314), np.float64(0.0)], [np.float64(-1.5830209192548974), np.float64(3.152495411187597), np.float64(0.0)], [np.float64(-1.662602297362419), np.float64(3.0919412679890703), np.float64(0.0)], [np.float64(-1.7611669122636895), np.float64(3.075058830683863), np.float64(0.0)], [np.float64(-1.8502300231206155), np.float64(3.029586176434447), np.float64(0.0)], [np.float64(-1.9497733532280352), np.float64(3.0391321405620375), np.float64(0.0)], [np.float64(-2.0491653247612907), np.float64(3.0281214187540653), np.float64(0.0)], [np.float64(-2.1455800947823436), np.float64(3.0015848002470387), np.float64(0.0)], [np.float64(-2.2450423657720022), np.float64(2.991228321618678), np.float64(0.0)], [np.float64(-2.2973723734732148), np.float64(2.9060134737693093), np.float64(0.0)], [np.float64(-2.376768618067131), np.float64(2.8452167933962573), np.float64(0.0)], [np.float64(-2.4155550160394488), np.float64(2.7530451310898143), np.float64(0.0)], [np.float64(-2.499990866764892), np.float64(2.6994672708089977), np.float64(0.0)], [np.float64(-2.4534214839017894), np.float64(2.6109726801282687), np.float64(0.0)], [np.float64(-2.442464615989304), np.float64(2.511574757385646), np.float64(0.0)], [np.float64(-2.4105860149305656), np.float64(2.416792086002435), np.float64(0.0)], [np.float64(-2.3501197031781276), np.float64(2.337143952671785), np.float64(0.0)], [np.float64(-2.3590198328273964), np.float64(2.2375408016562366), np.float64(0.0)], [np.float64(-2.278094375730772), np.float64(2.1787949899442305), np.float64(0.0)], [np.float64(-2.181723996854202), np.float64(2.152097610387683), np.float64(0.0)], [np.float64(-2.196528155873196), np.float64(2.0531994967770566), np.float64(0.0)], [np.float64(-2.104233535670082), np.float64(2.0147066002692213), np.float64(0.0)], [np.float64(-2.021148137198232), np.float64(1.9590575521122766), np.float64(0.0)], [np.float64(-1.9918601777631941), np.float64(1.8634426190101112), np.float64(0.0)], [np.float64(-1.9954210656797966), np.float64(1.7635060387341912), np.float64(0.0)], [np.float64(-1.9264956956764694), np.float64(1.6910540313782563), np.float64(0.0)], [np.float64(-1.8295649023288483), np.float64(1.6664690501701938), np.float64(0.0)], [np.float64(-1.7300491102736881), np.float64(1.6566401574739573), np.float64(0.0)], [np.float64(-1.6912467254236878), np.float64(1.5644752241752646), np.float64(0.0)], [np.float64(-1.6164027050408176), np.float64(1.4981549963942284), np.float64(0.0)], [np.float64(-1.5327611552916818), np.float64(1.4433454063979256), np.float64(0.0)], [np.float64(-1.482544880965703), np.float64(1.3568680926513825), np.float64(0.0)], [np.float64(-1.5388752486482649), np.float64(1.274243098389674), np.float64(0.0)], [np.float64(-1.58523092205417), np.float64(1.185636374361048), np.float64(0.0)], [np.float64(-1.6517830218117555), np.float64(1.1109984616232418), np.float64(0.0)], [np.float64(-1.595971008689798), np.float64(1.028022445864021), np.float64(0.0)], [np.float64(-1.5440227120985035), np.float64(0.9425743652462395), np.float64(0.0)], [np.float64(-1.5002089783412598), np.float64(0.8526835607429458), np.float64(0.0)], [np.float64(-1.4217469835721155), np.float64(0.7906858561334462), np.float64(0.0)], [np.float64(-1.3752425996368933), np.float64(0.7021570908940877), np.float64(0.0)], [np.float64(-1.2944592201111897), np.float64(0.6432160560167959), np.float64(0.0)], [np.float64(-1.2480890654636172), np.float64(0.5546169095312896), np.float64(0.0)], [np.float64(-1.2641865416809486), np.float64(0.4559210572403627), np.float64(0.0)], [np.float64(-1.2583425678989868), np.float64(0.35609196343281707), np.float64(0.0)], [np.float64(-1.2257995922510454), np.float64(0.26153534158126457), np.float64(0.0)], [np.float64(-1.2296762901233764), np.float64(0.1616105137675192), np.float64(0.0)], [np.float64(-1.2445474842452495), np.float64(0.06272245793978252), np.float64(0.0)], [np.float64(-1.2266823148126702), np.float64(-0.0356687800905687), np.float64(0.0)], [np.float64(-1.2546088193384803), np.float64(-0.1316901857508167), np.float64(0.0)], [np.float64(-1.344945103851222), np.float64(-0.1745778961167595), np.float64(0.0)], [np.float64(-1.4323061565411546), np.float64(-0.2232404738629785), np.float64(0.0)], [np.float64(-1.522244071849509), np.float64(-0.266957420119405), np.float64(0.0)], [np.float64(-1.5721801563241136), np.float64(-0.3535968307091888), np.float64(0.0)], [np.float64(-1.6287094848745391), np.float64(-0.4360858300584235), np.float64(0.0)], [np.float64(-1.5585660730444995), np.float64(-0.5073592597278413), np.float64(0.0)], [np.float64(-1.5769482544458153), np.float64(-0.6056552179709406), np.float64(0.0)], [np.float64(-1.481175300572471), np.float64(-0.6344222356539444), np.float64(0.0)], [np.float64(-1.4684662818140581), np.float64(-0.7336113522050979), np.float64(0.0)], [np.float64(-1.3976307695123218), np.float64(-0.8041969753655585), np.float64(0.0)], [np.float64(-1.326794606021623), np.float64(-0.8747819450256709), np.float64(0.0)], [np.float64(-1.3816928495706617), np.float64(-0.9583653336578052), np.float64(0.0)], [np.float64(-1.3553109401919028), np.float64(-1.0548225514153735), np.float64(0.0)], [np.float64(-1.422884450164936), np.float64(-1.1285370055605708), np.float64(0.0)], [np.float64(-1.5221979376471086), np.float64(-1.140234492646623), np.float64(0.0)], [np.float64(-1.592359866037653), np.float64(-1.2114896945937097), np.float64(0.0)], [np.float64(-1.6615670022434539), np.float64(-1.2836726032230503), np.float64(0.0)], [np.float64(-1.73262461734971), np.float64(-1.3540346337182767), np.float64(0.0)], [np.float64(-1.801407048857894), np.float64(-1.4266223538630916), np.float64(0.0)], [np.float64(-1.8794923637109378), np.float64(-1.489093816182306), np.float64(0.0)], [np.float64(-1.9498995074400465), np.float64(-1.560106731288705), np.float64(0.0)], [np.float64(-2.0209901105572126), np.float64(-1.630435432033405), np.float64(0.0)], [np.float64(-2.0896810852003807), np.float64(-1.703109705353278), np.float64(0.0)], [np.float64(-2.1601445268146633), np.float64(-1.774066758532441), np.float64(0.0)], [np.float64(-2.2154919081089877), np.float64(-1.8573534164306944), np.float64(0.0)], [np.float64(-2.284763420293791), np.float64(-1.9294745478668458), np.float64(0.0)], [np.float64(-2.3776477553982205), np.float64(-1.9665218189162508), np.float64(0.0)], [np.float64(-2.4472005066105997), np.float64(-2.0383717653239475), np.float64(0.0)], [np.float64(-2.5230529910186243), np.float64(-2.103536177460714), np.float64(0.0)], [np.float64(-2.6187382810493496), np.float64(-2.132593453171558), np.float64(0.0)], [np.float64(-2.689973558063985), np.float64(-2.2027756112222203), np.float64(0.0)], [np.float64(-2.761428326164028), np.float64(-2.2727342855647854), np.float64(0.0)], [np.float64(-2.8531068287882957), np.float64(-2.232796181496464), np.float64(0.0)], [np.float64(-2.9525918323105778), np.float64(-2.2226603996237353), np.float64(0.0)], [np.float64(-3.0269465112175844), np.float64(-2.2895287906963184), np.float64(0.0)], [np.float64(-3.12320633992779), np.float64(-2.316622062493609), np.float64(0.0)], [np.float64(-3.196197341310464), np.float64(-2.2482677377061133), np.float64(0.0)], [np.float64(-3.293869256567993), np.float64(-2.226815535722958), np.float64(0.0)], [np.float64(-3.381479058928594), np.float64(-2.275028838143933), np.float64(0.0)], [np.float64(-3.4793373057991324), np.float64(-2.2956143553690302), np.float64(0.0)], [np.float64(-3.576346941893252), np.float64(-2.271342344638839), np.float64(0.0)], [np.float64(-3.656051396073346), np.float64(-2.3317343969624127), np.float64(0.0)], [np.float64(-3.735211282765813), np.float64(-2.392838507616572), np.float64(0.0)], [np.float64(-3.816397298495989), np.float64(-2.4512237013720064), np.float64(0.0)], [np.float64(-3.8951219091633735), np.float64(-2.512887594172159), np.float64(0.0)], [np.float64(-3.9874782563925795), np.float64(-2.5512321521495087), np.float64(0.0)], [np.float64(-4.069698404758498), np.float64(-2.608151807829128), np.float64(0.0)], [np.float64(-4.153074793214116), np.float64(-2.663363924688544), np.float64(0.0)], [np.float64(-4.234498673349129), np.float64(-2.7214169327394537), np.float64(0.0)], [np.float64(-4.314956146450187), np.float64(-2.780802074165509), np.float64(0.0)], [np.float64(-4.393606845229214), np.float64(-2.842560211941601), np.float64(0.0)], [np.float64(-4.4209544098706415), np.float64(-2.938748104673394), np.float64(0.0)], [np.float64(-4.5), np.float64(-3.0), np.float64(0.0)]]\n"
     ]
    }
   ],
   "source": [
    "# PART 2    \n",
    "path_to_goal_3d = []\n",
    "for i, point in enumerate(path_to_goal):\n",
    "    # Add a z-coordinate of 0.0 to each point\n",
    "    path_to_goal_3d.append([point[0], point[1], np.float64(0.0)])\n",
    "    f = C.addFrame(f\"waypoint{i}\")\n",
    "    f.setPosition(path_to_goal_3d[i])\n",
    "print(path_to_goal_3d)"
   ]
  },
  {
   "cell_type": "code",
   "execution_count": 168,
   "id": "34cd1afd-9443-4453-8497-fa15b3cacee2",
   "metadata": {},
   "outputs": [
    {
     "name": "stdout",
     "output_type": "stream",
     "text": [
      "{ time: 0.035005, evals: 7, done: 1, feasible: 0, eq: 0.10931, ineq: 0, sos: 17.1969, f: 0 }\n",
      "False\n",
      "(90, 4)\n"
     ]
    }
   ],
   "source": [
    "# for i in range(len(path_to_goal)): # for each waypoint in rrt\n",
    "komo = ry.KOMO(C, phases=3, slicesPerPhase=30, kOrder=2, enableCollisions=True)  \n",
    "    \n",
    "komo.addControlObjective([], 0)\n",
    "komo.addControlObjective([], 2)\n",
    "komo.addObjective([], ry.FS.accumulatedCollisions, [], ry.OT.eq)\n",
    "\n",
    "komo.addObjective([1], ry.FS.distance, [\"ego1\",\"cargo\"],ry.OT.eq)\n",
    "komo.addModeSwitch([1,-1], ry.SY.stable, [\"ego1\", \"cargo\"], True)\n",
    "\n",
    "# solve\n",
    "ret = ry.NLP_Solver(komo.nlp(), verbose=0).solve() \n",
    "\n",
    "print(ret)\n",
    "print(ret.feasible)\n",
    "komo.view_play(True, f\"Solution, {ret.feasible}, {ret.eq}\")\n",
    "q = komo.getPath()\n",
    "print(q.shape)"
   ]
  },
  {
   "cell_type": "code",
   "execution_count": 169,
   "id": "dfcec883-9692-4dde-8ada-15987fceabf7",
   "metadata": {},
   "outputs": [],
   "source": [
    "R = komo.report(False, plotOverTime=True)"
   ]
  },
  {
   "cell_type": "code",
   "execution_count": 121,
   "id": "bc831688-c341-422f-8396-75a651640de8",
   "metadata": {},
   "outputs": [
    {
     "name": "stdout",
     "output_type": "stream",
     "text": [
      "cost1: 11.21938716653611 cost2: 11.872308231773733 ret1.feasible: False ret2.feasible: False\n"
     ]
    }
   ],
   "source": [
    "# 1 komo, we use Stable all the time. and \n",
    "total_path = []\n",
    "current_holder = None\n",
    "\n",
    "C_segment1 = C\n",
    "segment_path = []\n",
    "\n",
    "#for i in range(len(path_to_goal)): # for each waypoint in rrt\n",
    "komo_ego1 = ry.KOMO(C_segment1, phases=3, slicesPerPhase=30, kOrder=2, enableCollisions=True)  \n",
    "    \n",
    "komo_ego1.addControlObjective([], 0)\n",
    "komo_ego1.addControlObjective([], 2)\n",
    "komo_ego1.addObjective([], ry.FS.accumulatedCollisions, [], ry.OT.eq)\n",
    "\n",
    "if current_holder != \"ego1\": # if the current holder is not ego1\n",
    "    komo_ego1.addObjective([1], ry.FS.distance, [\"ego1\",\"cargo\"],ry.OT.eq)\n",
    "    komo_ego1.addModeSwitch([1.4,-1], ry.SY.stable, [\"ego1\", \"cargo\"], True)\n",
    "else: # already holding\n",
    "    komo_ego1.addModeSwitch([1,-1], ry.SY.stable, [\"ego1\", \"cargo\"], True)\n",
    "    \n",
    "komo_ego1.addObjective([2], ry.FS.position, [\"cargo\"], ry.OT.eq, [1e2], path_to_goal_3d[2])\n",
    "\n",
    "# solve\n",
    "ret1 = ry.NLP_Solver(komo_ego1.nlp(), verbose=0).solve() \n",
    "cost1 = ret1.eq\n",
    "\n",
    "\n",
    "\n",
    "C_segment2 = C\n",
    "\n",
    "#for i in range(len(path_to_goal)): # for each waypoint in rrt\n",
    "komo_ego2 = ry.KOMO(C_segment2, phases=3, slicesPerPhase=30, kOrder=2, enableCollisions=True)  \n",
    "    \n",
    "komo_ego2.addControlObjective([], 0)\n",
    "komo_ego2.addControlObjective([], 2)\n",
    "komo_ego2.addObjective([], ry.FS.accumulatedCollisions, [], ry.OT.eq)\n",
    "\n",
    "if current_holder != \"ego2\": # if the current holder is not ego1\n",
    "    komo_ego2.addObjective([1], ry.FS.distance, [\"ego2\",\"cargo\"],ry.OT.eq)\n",
    "    komo_ego2.addModeSwitch([1.4,-1], ry.SY.stable, [\"ego2\", \"cargo\"], True)\n",
    "else: # already holding\n",
    "    komo_ego2.addModeSwitch([1,-1], ry.SY.stable, [\"ego2\", \"cargo\"], True)\n",
    "    \n",
    "komo_ego2.addObjective([2], ry.FS.position, [\"cargo\"], ry.OT.eq, [1e2], path_to_goal_3d[2])\n",
    "\n",
    "# solve\n",
    "ret2 = ry.NLP_Solver(komo_ego2.nlp(), verbose=0).solve() \n",
    "cost2 = ret2.eq\n",
    "\n",
    "\n",
    "print(\"cost1:\",cost1, \"cost2:\",cost2, \"ret1.feasible:\",ret1.feasible,\"ret2.feasible:\",ret2.feasible)\n",
    "\n",
    "if cost1 < cost2:\n",
    "    segment_path = komo_ego1.getPath()\n",
    "    current_holder = \"ego1\"\n",
    "    C = C_segment1\n",
    "else:\n",
    "    segment_path = komo_ego2.getPath()\n",
    "    current_holder = \"ego2\"\n",
    "    C = C_segment2\n",
    "\n",
    "C.view()\n",
    "\n",
    "C.setJointState(segment_path[-1])\n",
    "total_path.extend(segment_path)\n",
    "    \n",
    "# Visualize the entire movement\n",
    "for i, config in enumerate(total_path):\n",
    "    C.setJointState(config)\n",
    "    C.view(False, f\"Step {i}\")\n",
    "    time.sleep(0.1)\n",
    "R = komo_ego1.report(False, plotOverTime=True)"
   ]
  },
  {
   "cell_type": "code",
   "execution_count": 108,
   "id": "2e2f0212-8dfa-4585-9710-260e2304754b",
   "metadata": {},
   "outputs": [
    {
     "name": "stdout",
     "output_type": "stream",
     "text": [
      "{ time: 0.291095, evals: 95, done: 1, feasible: 0, eq: 13.6088, ineq: 0, sos: 16.2845, f: 0 }\n",
      "False\n",
      "STACK9 /usr/bin/python3(+0x198a6b) [0x5bd41c3a5a6b]\n",
      "STACK8 /usr/bin/python3(_PyObject_MakeTpCall\n",
      "STACK7 /usr/bin/python3(+0x18ae12) [0x5bd41c397e12]\n",
      "STACK6 /home/omer/.local/lib/python3.10/site-packages/robotic/_robotic.so(+0x3f21e) [0x7b3ca0f2721e]\n",
      "STACK5 /home/omer/.local/lib/python3.10/site-packages/robotic/_robotic.so(+0x8f6ac) [0x7b3ca0f776ac]\n",
      "STACK4 KOMO::view_play(bool, char const*, double, char const*)\n",
      "STACK3 KOMO::view(bool, char const*)\n",
      "STACK2 KOMO::info_objectiveErrorTraces()\n",
      "STACK1 rai::Array<double>::operator()(int) const\n",
      "STACK0 rai::LogToken::~LogToken()\n"
     ]
    },
    {
     "name": "stderr",
     "output_type": "stream",
     "text": [
      "== ERROR:array.ipp:operator():738(-2) CHECK failed: 'nd==1 && (uint)i<d0' -- 1D range error (1=1, 480<480)\n"
     ]
    },
    {
     "ename": "RuntimeError",
     "evalue": "array.ipp:operator():738(-2) CHECK failed: 'nd==1 && (uint)i<d0' -- 1D range error (1=1, 480<480)",
     "output_type": "error",
     "traceback": [
      "\u001b[0;31m---------------------------------------------------------------------------\u001b[0m",
      "\u001b[0;31mRuntimeError\u001b[0m                              Traceback (most recent call last)",
      "Cell \u001b[0;32mIn[108], line 3\u001b[0m\n\u001b[1;32m      1\u001b[0m \u001b[38;5;28mprint\u001b[39m(ret)\n\u001b[1;32m      2\u001b[0m \u001b[38;5;28mprint\u001b[39m(ret\u001b[38;5;241m.\u001b[39mfeasible)\n\u001b[0;32m----> 3\u001b[0m \u001b[43mkomo\u001b[49m\u001b[38;5;241;43m.\u001b[39;49m\u001b[43mview_play\u001b[49m\u001b[43m(\u001b[49m\u001b[38;5;28;43;01mTrue\u001b[39;49;00m\u001b[43m,\u001b[49m\u001b[43m \u001b[49m\u001b[38;5;124;43mf\u001b[39;49m\u001b[38;5;124;43m\"\u001b[39;49m\u001b[38;5;124;43mSolution, \u001b[39;49m\u001b[38;5;132;43;01m{\u001b[39;49;00m\u001b[43mret\u001b[49m\u001b[38;5;241;43m.\u001b[39;49m\u001b[43mfeasible\u001b[49m\u001b[38;5;132;43;01m}\u001b[39;49;00m\u001b[38;5;124;43m, \u001b[39;49m\u001b[38;5;132;43;01m{\u001b[39;49;00m\u001b[43mret\u001b[49m\u001b[38;5;241;43m.\u001b[39;49m\u001b[43meq\u001b[49m\u001b[38;5;132;43;01m}\u001b[39;49;00m\u001b[38;5;124;43m\"\u001b[39;49m\u001b[43m)\u001b[49m\n\u001b[1;32m      4\u001b[0m q \u001b[38;5;241m=\u001b[39m komo\u001b[38;5;241m.\u001b[39mgetPath()\n\u001b[1;32m      5\u001b[0m \u001b[38;5;28mprint\u001b[39m(q\u001b[38;5;241m.\u001b[39mshape)\n",
      "\u001b[0;31mRuntimeError\u001b[0m: array.ipp:operator():738(-2) CHECK failed: 'nd==1 && (uint)i<d0' -- 1D range error (1=1, 480<480)"
     ]
    }
   ],
   "source": [
    "print(ret)\n",
    "print(ret.feasible)\n",
    "komo.view_play(True, f\"Solution, {ret.feasible}, {ret.eq}\")\n",
    "q = komo.getPath()\n",
    "print(q.shape)"
   ]
  },
  {
   "cell_type": "code",
   "execution_count": 82,
   "id": "0f20b9e9-4d8b-49e0-b6ce-f7d2c1619c75",
   "metadata": {},
   "outputs": [],
   "source": [
    "R = komo.report(False, plotOverTime=True)"
   ]
  },
  {
   "cell_type": "code",
   "execution_count": null,
   "id": "4c74fdb2-a150-4ba3-994d-b6635311d95e",
   "metadata": {},
   "outputs": [],
   "source": []
  }
 ],
 "metadata": {
  "kernelspec": {
   "display_name": "Python 3 (ipykernel)",
   "language": "python",
   "name": "python3"
  },
  "language_info": {
   "codemirror_mode": {
    "name": "ipython",
    "version": 3
   },
   "file_extension": ".py",
   "mimetype": "text/x-python",
   "name": "python",
   "nbconvert_exporter": "python",
   "pygments_lexer": "ipython3",
   "version": "3.10.12"
  }
 },
 "nbformat": 4,
 "nbformat_minor": 5
}
